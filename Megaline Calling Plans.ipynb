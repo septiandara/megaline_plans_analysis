{
 "cells": [
  {
   "cell_type": "markdown",
   "id": "543a0d78",
   "metadata": {},
   "source": [
    "# Megaline Calling Plans Analysis"
   ]
  },
  {
   "cell_type": "markdown",
   "id": "86fac688",
   "metadata": {},
   "source": [
    "## Introduction\n",
    "\n",
    "A set of telecom company's users data have been provided for analysis of the users' behavior and the company's revenue. The dataset will be processed to avoid or minimise skewed analysis, exploratory data analysis will be conducted and hypotheses testing will be done in order to reach some conclusions. This report will consist of the following:\n",
    "\n",
    "1. General information on the dataset\n",
    "2. Data preprocessing stages, replacing missing values, categorising data and adding other relevant variables\n",
    "3. Exploratory data analysis on the monthly plan usage and the company's revenue\n",
    "4. Hypotheses testing to determine which monthly plan and other factors bring in more revenue\n",
    "\n",
    "The main goal of this report is to provide Megaline's marketing department to make the decisions on which plan to advertise more. The conclusions drawn in this report will also provide suggestions on which strategy best serves Megaline."
   ]
  },
  {
   "cell_type": "markdown",
   "id": "f8dd64ac",
   "metadata": {},
   "source": [
    "## General Information and Data Preprocessing"
   ]
  },
  {
   "cell_type": "code",
   "execution_count": 1,
   "id": "d2260469",
   "metadata": {},
   "outputs": [],
   "source": [
    "import pandas as pd\n",
    "import numpy as np\n",
    "import matplotlib.pyplot as plt\n",
    "import math as mt\n",
    "import datetime\n",
    "from math import factorial\n",
    "from scipy import stats as st\n",
    "import warnings\n",
    "warnings.filterwarnings(\"ignore\")"
   ]
  },
  {
   "cell_type": "code",
   "execution_count": 2,
   "id": "6ac90ec6",
   "metadata": {},
   "outputs": [],
   "source": [
    "# read the .csv file\n",
    "\n",
    "try:\n",
    "    calls = pd.read_csv('megaline_calls.csv')\n",
    "    internet = pd.read_csv('megaline_internet.csv')\n",
    "    messages = pd.read_csv('megaline_messages.csv')\n",
    "    plans = pd.read_csv('megaline_plans.csv')\n",
    "    users = pd.read_csv('megaline_users.csv')\n",
    "except:\n",
    "    calls = pd.read_csv('/datasets/megaline_calls.csv')\n",
    "    internet = pd.read_csv('/datasets/megaline_internet.csv')\n",
    "    messages = pd.read_csv('/datasets/megaline_messages.csv')\n",
    "    plans = pd.read_csv('/datasets/megaline_plans.csv')\n",
    "    users = pd.read_csv('/datasets/megaline_users.csv')"
   ]
  },
  {
   "cell_type": "code",
   "execution_count": 3,
   "id": "abd61e09",
   "metadata": {},
   "outputs": [],
   "source": [
    "def data_info(data):\n",
    "    \"\"\"This function helps simplify reading multiple datasets.\n",
    "    \n",
    "    This function takes the dataset variable as input and \n",
    "    produces the general information about each dataset, \n",
    "    including description, duplicates and missing values.\"\"\"\n",
    "    print('General dataset information:')\n",
    "    print(data.info())\n",
    "    print()\n",
    "    print('First five rows:')\n",
    "    print(data.head())\n",
    "    print()\n",
    "    print('Description of the dataset:')\n",
    "    print(data.describe())\n",
    "    print()\n",
    "    print('This dataset has {} duplicates.'.format(data.duplicated().sum()))\n",
    "    print()\n",
    "    print('How many missing values does this data have?')\n",
    "    print(data.isna().sum())\n",
    "    print()\n",
    "    print('What is the percentage of the missing values?')\n",
    "    print(data.isna().sum() / len(data))"
   ]
  },
  {
   "cell_type": "markdown",
   "id": "3835b518",
   "metadata": {},
   "source": [
    "### Preprocessing Calls Data "
   ]
  },
  {
   "cell_type": "code",
   "execution_count": 4,
   "id": "e7067c9f",
   "metadata": {},
   "outputs": [
    {
     "name": "stdout",
     "output_type": "stream",
     "text": [
      "General dataset information:\n",
      "<class 'pandas.core.frame.DataFrame'>\n",
      "RangeIndex: 137735 entries, 0 to 137734\n",
      "Data columns (total 4 columns):\n",
      " #   Column     Non-Null Count   Dtype  \n",
      "---  ------     --------------   -----  \n",
      " 0   id         137735 non-null  object \n",
      " 1   user_id    137735 non-null  int64  \n",
      " 2   call_date  137735 non-null  object \n",
      " 3   duration   137735 non-null  float64\n",
      "dtypes: float64(1), int64(1), object(2)\n",
      "memory usage: 4.2+ MB\n",
      "None\n",
      "\n",
      "First five rows:\n",
      "         id  user_id   call_date  duration\n",
      "0   1000_93     1000  2018-12-27      8.52\n",
      "1  1000_145     1000  2018-12-27     13.66\n",
      "2  1000_247     1000  2018-12-27     14.48\n",
      "3  1000_309     1000  2018-12-28      5.76\n",
      "4  1000_380     1000  2018-12-30      4.22\n",
      "\n",
      "Description of the dataset:\n",
      "             user_id       duration\n",
      "count  137735.000000  137735.000000\n",
      "mean     1247.658046       6.745927\n",
      "std       139.416268       5.839241\n",
      "min      1000.000000       0.000000\n",
      "25%      1128.000000       1.290000\n",
      "50%      1247.000000       5.980000\n",
      "75%      1365.000000      10.690000\n",
      "max      1499.000000      37.600000\n",
      "\n",
      "This dataset has 0 duplicates.\n",
      "\n",
      "How many missing values does this data have?\n",
      "id           0\n",
      "user_id      0\n",
      "call_date    0\n",
      "duration     0\n",
      "dtype: int64\n",
      "\n",
      "What is the percentage of the missing values?\n",
      "id           0.0\n",
      "user_id      0.0\n",
      "call_date    0.0\n",
      "duration     0.0\n",
      "dtype: float64\n"
     ]
    }
   ],
   "source": [
    "data_info(calls)"
   ]
  },
  {
   "cell_type": "markdown",
   "id": "b218ee9f",
   "metadata": {},
   "source": [
    "The calls dataset does not have any missing values or duplicates. But we should check the columns for any anomaly, such as calls with 0 minutes duration."
   ]
  },
  {
   "cell_type": "code",
   "execution_count": 14,
   "id": "fdd367b8",
   "metadata": {},
   "outputs": [
    {
     "data": {
      "text/html": [
       "<div>\n",
       "<style scoped>\n",
       "    .dataframe tbody tr th:only-of-type {\n",
       "        vertical-align: middle;\n",
       "    }\n",
       "\n",
       "    .dataframe tbody tr th {\n",
       "        vertical-align: top;\n",
       "    }\n",
       "\n",
       "    .dataframe thead th {\n",
       "        text-align: right;\n",
       "    }\n",
       "</style>\n",
       "<table border=\"1\" class=\"dataframe\">\n",
       "  <thead>\n",
       "    <tr style=\"text-align: right;\">\n",
       "      <th></th>\n",
       "      <th>id</th>\n",
       "      <th>user_id</th>\n",
       "      <th>call_date</th>\n",
       "      <th>duration</th>\n",
       "      <th>month</th>\n",
       "      <th>duration_min</th>\n",
       "    </tr>\n",
       "  </thead>\n",
       "  <tbody>\n",
       "    <tr>\n",
       "      <th>19</th>\n",
       "      <td>1001_4</td>\n",
       "      <td>1001</td>\n",
       "      <td>2018-12-05</td>\n",
       "      <td>0.0</td>\n",
       "      <td>12</td>\n",
       "      <td>0.0</td>\n",
       "    </tr>\n",
       "    <tr>\n",
       "      <th>25</th>\n",
       "      <td>1001_13</td>\n",
       "      <td>1001</td>\n",
       "      <td>2018-12-24</td>\n",
       "      <td>0.0</td>\n",
       "      <td>12</td>\n",
       "      <td>0.0</td>\n",
       "    </tr>\n",
       "    <tr>\n",
       "      <th>31</th>\n",
       "      <td>1001_30</td>\n",
       "      <td>1001</td>\n",
       "      <td>2018-10-17</td>\n",
       "      <td>0.0</td>\n",
       "      <td>10</td>\n",
       "      <td>0.0</td>\n",
       "    </tr>\n",
       "    <tr>\n",
       "      <th>32</th>\n",
       "      <td>1001_31</td>\n",
       "      <td>1001</td>\n",
       "      <td>2018-11-03</td>\n",
       "      <td>0.0</td>\n",
       "      <td>11</td>\n",
       "      <td>0.0</td>\n",
       "    </tr>\n",
       "    <tr>\n",
       "      <th>34</th>\n",
       "      <td>1001_35</td>\n",
       "      <td>1001</td>\n",
       "      <td>2018-12-21</td>\n",
       "      <td>0.0</td>\n",
       "      <td>12</td>\n",
       "      <td>0.0</td>\n",
       "    </tr>\n",
       "  </tbody>\n",
       "</table>\n",
       "</div>"
      ],
      "text/plain": [
       "         id  user_id  call_date  duration  month  duration_min\n",
       "19   1001_4     1001 2018-12-05       0.0     12           0.0\n",
       "25  1001_13     1001 2018-12-24       0.0     12           0.0\n",
       "31  1001_30     1001 2018-10-17       0.0     10           0.0\n",
       "32  1001_31     1001 2018-11-03       0.0     11           0.0\n",
       "34  1001_35     1001 2018-12-21       0.0     12           0.0"
      ]
     },
     "execution_count": 14,
     "metadata": {},
     "output_type": "execute_result"
    }
   ],
   "source": [
    "calls.loc[calls['duration'] == 0].head()"
   ]
  },
  {
   "cell_type": "code",
   "execution_count": 15,
   "id": "26ec38eb",
   "metadata": {},
   "outputs": [
    {
     "name": "stdout",
     "output_type": "stream",
     "text": [
      "Percentage of calls with zero minutes is: 19.48%\n"
     ]
    }
   ],
   "source": [
    "#check the percentage of zero values in the dataset\n",
    "print('Percentage of calls with zero minutes is: {:.2%}'.format(len(calls.loc[calls['duration'] == 0]) / len(calls)))"
   ]
  },
  {
   "cell_type": "markdown",
   "id": "bdf86c4b",
   "metadata": {},
   "source": [
    "A zero duration calls can be due to technical error or it can be a missed calls and calls with duration less than 1 minute. It's quite a big amount, nearly 20%. To avoid skewing the analysis, we don't replace these zero values."
   ]
  },
  {
   "cell_type": "code",
   "execution_count": 7,
   "id": "ec6682de",
   "metadata": {},
   "outputs": [],
   "source": [
    "# change the date format\n",
    "calls['call_date'] = pd.to_datetime(calls['call_date'], format='%Y-%m-%d')"
   ]
  },
  {
   "cell_type": "code",
   "execution_count": 8,
   "id": "8da82681",
   "metadata": {},
   "outputs": [],
   "source": [
    "# add month for analysis about monthly usage\n",
    "calls['month'] = calls['call_date'].dt.month"
   ]
  },
  {
   "cell_type": "code",
   "execution_count": 9,
   "id": "afbc3235",
   "metadata": {},
   "outputs": [
    {
     "name": "stdout",
     "output_type": "stream",
     "text": [
      "<class 'pandas.core.frame.DataFrame'>\n",
      "RangeIndex: 137735 entries, 0 to 137734\n",
      "Data columns (total 5 columns):\n",
      " #   Column     Non-Null Count   Dtype         \n",
      "---  ------     --------------   -----         \n",
      " 0   id         137735 non-null  object        \n",
      " 1   user_id    137735 non-null  int64         \n",
      " 2   call_date  137735 non-null  datetime64[ns]\n",
      " 3   duration   137735 non-null  float64       \n",
      " 4   month      137735 non-null  int64         \n",
      "dtypes: datetime64[ns](1), float64(1), int64(2), object(1)\n",
      "memory usage: 5.3+ MB\n"
     ]
    }
   ],
   "source": [
    "calls.info()"
   ]
  },
  {
   "cell_type": "code",
   "execution_count": 11,
   "id": "23bacaff",
   "metadata": {},
   "outputs": [],
   "source": [
    "# add rounded up duration for analysis\n",
    "calls['duration_min'] = calls['duration'].apply(np.ceil)"
   ]
  },
  {
   "cell_type": "code",
   "execution_count": 12,
   "id": "41975511",
   "metadata": {},
   "outputs": [
    {
     "data": {
      "text/html": [
       "<div>\n",
       "<style scoped>\n",
       "    .dataframe tbody tr th:only-of-type {\n",
       "        vertical-align: middle;\n",
       "    }\n",
       "\n",
       "    .dataframe tbody tr th {\n",
       "        vertical-align: top;\n",
       "    }\n",
       "\n",
       "    .dataframe thead th {\n",
       "        text-align: right;\n",
       "    }\n",
       "</style>\n",
       "<table border=\"1\" class=\"dataframe\">\n",
       "  <thead>\n",
       "    <tr style=\"text-align: right;\">\n",
       "      <th></th>\n",
       "      <th>id</th>\n",
       "      <th>user_id</th>\n",
       "      <th>call_date</th>\n",
       "      <th>duration</th>\n",
       "      <th>month</th>\n",
       "      <th>duration_min</th>\n",
       "    </tr>\n",
       "  </thead>\n",
       "  <tbody>\n",
       "    <tr>\n",
       "      <th>0</th>\n",
       "      <td>1000_93</td>\n",
       "      <td>1000</td>\n",
       "      <td>2018-12-27</td>\n",
       "      <td>8.52</td>\n",
       "      <td>12</td>\n",
       "      <td>9.0</td>\n",
       "    </tr>\n",
       "    <tr>\n",
       "      <th>1</th>\n",
       "      <td>1000_145</td>\n",
       "      <td>1000</td>\n",
       "      <td>2018-12-27</td>\n",
       "      <td>13.66</td>\n",
       "      <td>12</td>\n",
       "      <td>14.0</td>\n",
       "    </tr>\n",
       "    <tr>\n",
       "      <th>2</th>\n",
       "      <td>1000_247</td>\n",
       "      <td>1000</td>\n",
       "      <td>2018-12-27</td>\n",
       "      <td>14.48</td>\n",
       "      <td>12</td>\n",
       "      <td>15.0</td>\n",
       "    </tr>\n",
       "    <tr>\n",
       "      <th>3</th>\n",
       "      <td>1000_309</td>\n",
       "      <td>1000</td>\n",
       "      <td>2018-12-28</td>\n",
       "      <td>5.76</td>\n",
       "      <td>12</td>\n",
       "      <td>6.0</td>\n",
       "    </tr>\n",
       "    <tr>\n",
       "      <th>4</th>\n",
       "      <td>1000_380</td>\n",
       "      <td>1000</td>\n",
       "      <td>2018-12-30</td>\n",
       "      <td>4.22</td>\n",
       "      <td>12</td>\n",
       "      <td>5.0</td>\n",
       "    </tr>\n",
       "  </tbody>\n",
       "</table>\n",
       "</div>"
      ],
      "text/plain": [
       "         id  user_id  call_date  duration  month  duration_min\n",
       "0   1000_93     1000 2018-12-27      8.52     12           9.0\n",
       "1  1000_145     1000 2018-12-27     13.66     12          14.0\n",
       "2  1000_247     1000 2018-12-27     14.48     12          15.0\n",
       "3  1000_309     1000 2018-12-28      5.76     12           6.0\n",
       "4  1000_380     1000 2018-12-30      4.22     12           5.0"
      ]
     },
     "execution_count": 12,
     "metadata": {},
     "output_type": "execute_result"
    }
   ],
   "source": [
    "calls.head()"
   ]
  },
  {
   "cell_type": "markdown",
   "id": "4a8952f5",
   "metadata": {},
   "source": [
    "### Preprocessing Internet Data"
   ]
  },
  {
   "cell_type": "code",
   "execution_count": 9,
   "id": "7ab35629",
   "metadata": {},
   "outputs": [
    {
     "name": "stdout",
     "output_type": "stream",
     "text": [
      "General dataset information:\n",
      "<class 'pandas.core.frame.DataFrame'>\n",
      "RangeIndex: 104825 entries, 0 to 104824\n",
      "Data columns (total 4 columns):\n",
      "id              104825 non-null object\n",
      "user_id         104825 non-null int64\n",
      "session_date    104825 non-null object\n",
      "mb_used         104825 non-null float64\n",
      "dtypes: float64(1), int64(1), object(2)\n",
      "memory usage: 3.2+ MB\n",
      "None\n",
      "\n",
      "First five rows:\n",
      "         id  user_id session_date  mb_used\n",
      "0   1000_13     1000   2018-12-29    89.86\n",
      "1  1000_204     1000   2018-12-31     0.00\n",
      "2  1000_379     1000   2018-12-28   660.40\n",
      "3  1000_413     1000   2018-12-26   270.99\n",
      "4  1000_442     1000   2018-12-27   880.22\n",
      "\n",
      "Description of the dataset:\n",
      "             user_id        mb_used\n",
      "count  104825.000000  104825.000000\n",
      "mean     1242.496361     366.713701\n",
      "std       142.053913     277.170542\n",
      "min      1000.000000       0.000000\n",
      "25%      1122.000000     136.080000\n",
      "50%      1236.000000     343.980000\n",
      "75%      1367.000000     554.610000\n",
      "max      1499.000000    1693.470000\n",
      "\n",
      "This dataset has 0 duplicates.\n",
      "\n",
      "How many missing values does this data have?\n",
      "id              0\n",
      "user_id         0\n",
      "session_date    0\n",
      "mb_used         0\n",
      "dtype: int64\n",
      "\n",
      "What is the percentage of the missing values?\n",
      "id              0.0\n",
      "user_id         0.0\n",
      "session_date    0.0\n",
      "mb_used         0.0\n",
      "dtype: float64\n"
     ]
    }
   ],
   "source": [
    "data_info(internet)"
   ]
  },
  {
   "cell_type": "markdown",
   "id": "cda7a278",
   "metadata": {},
   "source": [
    "The internet dataset does not have any missing values or duplicates. Again we should check the columns for any anomaly, such as internet session with 0 MB data."
   ]
  },
  {
   "cell_type": "code",
   "execution_count": 16,
   "id": "85eac07f",
   "metadata": {},
   "outputs": [
    {
     "data": {
      "text/html": [
       "<div>\n",
       "<style scoped>\n",
       "    .dataframe tbody tr th:only-of-type {\n",
       "        vertical-align: middle;\n",
       "    }\n",
       "\n",
       "    .dataframe tbody tr th {\n",
       "        vertical-align: top;\n",
       "    }\n",
       "\n",
       "    .dataframe thead th {\n",
       "        text-align: right;\n",
       "    }\n",
       "</style>\n",
       "<table border=\"1\" class=\"dataframe\">\n",
       "  <thead>\n",
       "    <tr style=\"text-align: right;\">\n",
       "      <th></th>\n",
       "      <th>id</th>\n",
       "      <th>user_id</th>\n",
       "      <th>session_date</th>\n",
       "      <th>mb_used</th>\n",
       "    </tr>\n",
       "  </thead>\n",
       "  <tbody>\n",
       "    <tr>\n",
       "      <th>1</th>\n",
       "      <td>1000_204</td>\n",
       "      <td>1000</td>\n",
       "      <td>2018-12-31</td>\n",
       "      <td>0.0</td>\n",
       "    </tr>\n",
       "    <tr>\n",
       "      <th>14</th>\n",
       "      <td>1001_26</td>\n",
       "      <td>1001</td>\n",
       "      <td>2018-09-17</td>\n",
       "      <td>0.0</td>\n",
       "    </tr>\n",
       "    <tr>\n",
       "      <th>16</th>\n",
       "      <td>1001_28</td>\n",
       "      <td>1001</td>\n",
       "      <td>2018-10-17</td>\n",
       "      <td>0.0</td>\n",
       "    </tr>\n",
       "    <tr>\n",
       "      <th>34</th>\n",
       "      <td>1001_54</td>\n",
       "      <td>1001</td>\n",
       "      <td>2018-09-02</td>\n",
       "      <td>0.0</td>\n",
       "    </tr>\n",
       "    <tr>\n",
       "      <th>43</th>\n",
       "      <td>1001_77</td>\n",
       "      <td>1001</td>\n",
       "      <td>2018-10-31</td>\n",
       "      <td>0.0</td>\n",
       "    </tr>\n",
       "  </tbody>\n",
       "</table>\n",
       "</div>"
      ],
      "text/plain": [
       "          id  user_id session_date  mb_used\n",
       "1   1000_204     1000   2018-12-31      0.0\n",
       "14   1001_26     1001   2018-09-17      0.0\n",
       "16   1001_28     1001   2018-10-17      0.0\n",
       "34   1001_54     1001   2018-09-02      0.0\n",
       "43   1001_77     1001   2018-10-31      0.0"
      ]
     },
     "execution_count": 16,
     "metadata": {},
     "output_type": "execute_result"
    }
   ],
   "source": [
    "internet.loc[internet['mb_used'] == 0].head()"
   ]
  },
  {
   "cell_type": "code",
   "execution_count": 17,
   "id": "a5c89b9e",
   "metadata": {},
   "outputs": [
    {
     "name": "stdout",
     "output_type": "stream",
     "text": [
      "Percentage of 0 MB session is: 13.11%\n"
     ]
    }
   ],
   "source": [
    "#check the percentage of zero values in the dataset\n",
    "print('Percentage of 0 MB session is: {:.2%}'.format(len(internet.loc[internet['mb_used'] == 0]) / len(internet)))"
   ]
  },
  {
   "cell_type": "markdown",
   "id": "75c8a2f9",
   "metadata": {},
   "source": [
    "There's more than 13% of internet sessions that have 0 MB data. Those might be attempts to access the internet but the connection wasn't good so it didn't load. To avoid skewing the analysis, we don't replace those zero values."
   ]
  },
  {
   "cell_type": "code",
   "execution_count": 18,
   "id": "8fcfaded",
   "metadata": {},
   "outputs": [],
   "source": [
    "# change the date format\n",
    "internet['session_date'] = pd.to_datetime(internet['session_date'], format='%Y-%m-%d')"
   ]
  },
  {
   "cell_type": "code",
   "execution_count": 19,
   "id": "c3faca59",
   "metadata": {},
   "outputs": [],
   "source": [
    "# add month for analysis about monthly usage\n",
    "internet['month'] = internet['session_date'].dt.month"
   ]
  },
  {
   "cell_type": "code",
   "execution_count": 20,
   "id": "8951c29d",
   "metadata": {},
   "outputs": [
    {
     "name": "stdout",
     "output_type": "stream",
     "text": [
      "<class 'pandas.core.frame.DataFrame'>\n",
      "RangeIndex: 104825 entries, 0 to 104824\n",
      "Data columns (total 5 columns):\n",
      " #   Column        Non-Null Count   Dtype         \n",
      "---  ------        --------------   -----         \n",
      " 0   id            104825 non-null  object        \n",
      " 1   user_id       104825 non-null  int64         \n",
      " 2   session_date  104825 non-null  datetime64[ns]\n",
      " 3   mb_used       104825 non-null  float64       \n",
      " 4   month         104825 non-null  int64         \n",
      "dtypes: datetime64[ns](1), float64(1), int64(2), object(1)\n",
      "memory usage: 4.0+ MB\n"
     ]
    }
   ],
   "source": [
    "internet.info()"
   ]
  },
  {
   "cell_type": "markdown",
   "id": "07706599",
   "metadata": {},
   "source": [
    "### Preprocessing Messages Data"
   ]
  },
  {
   "cell_type": "code",
   "execution_count": 13,
   "id": "0ab5fb9e",
   "metadata": {},
   "outputs": [
    {
     "name": "stdout",
     "output_type": "stream",
     "text": [
      "General dataset information:\n",
      "<class 'pandas.core.frame.DataFrame'>\n",
      "RangeIndex: 76051 entries, 0 to 76050\n",
      "Data columns (total 3 columns):\n",
      "id              76051 non-null object\n",
      "user_id         76051 non-null int64\n",
      "message_date    76051 non-null object\n",
      "dtypes: int64(1), object(2)\n",
      "memory usage: 1.7+ MB\n",
      "None\n",
      "\n",
      "First five rows:\n",
      "         id  user_id message_date\n",
      "0  1000_125     1000   2018-12-27\n",
      "1  1000_160     1000   2018-12-31\n",
      "2  1000_223     1000   2018-12-31\n",
      "3  1000_251     1000   2018-12-27\n",
      "4  1000_255     1000   2018-12-26\n",
      "\n",
      "Description of the dataset:\n",
      "            user_id\n",
      "count  76051.000000\n",
      "mean    1245.972768\n",
      "std      139.843635\n",
      "min     1000.000000\n",
      "25%     1123.000000\n",
      "50%     1251.000000\n",
      "75%     1362.000000\n",
      "max     1497.000000\n",
      "\n",
      "This dataset has 0 duplicates.\n",
      "\n",
      "How many missing values does this data have?\n",
      "id              0\n",
      "user_id         0\n",
      "message_date    0\n",
      "dtype: int64\n",
      "\n",
      "What is the percentage of the missing values?\n",
      "id              0.0\n",
      "user_id         0.0\n",
      "message_date    0.0\n",
      "dtype: float64\n"
     ]
    }
   ],
   "source": [
    "data_info(messages)"
   ]
  },
  {
   "cell_type": "markdown",
   "id": "a5362028",
   "metadata": {},
   "source": [
    "The message dataset does not have any missing values or duplicates. We need to change the data type of the date."
   ]
  },
  {
   "cell_type": "code",
   "execution_count": 22,
   "id": "5972d731",
   "metadata": {},
   "outputs": [],
   "source": [
    "# change the date format\n",
    "messages['message_date'] = pd.to_datetime(messages['message_date'], format='%Y-%m-%d')"
   ]
  },
  {
   "cell_type": "code",
   "execution_count": 23,
   "id": "0fc2a37e",
   "metadata": {},
   "outputs": [
    {
     "name": "stdout",
     "output_type": "stream",
     "text": [
      "<class 'pandas.core.frame.DataFrame'>\n",
      "RangeIndex: 76051 entries, 0 to 76050\n",
      "Data columns (total 4 columns):\n",
      " #   Column        Non-Null Count  Dtype         \n",
      "---  ------        --------------  -----         \n",
      " 0   id            76051 non-null  object        \n",
      " 1   user_id       76051 non-null  int64         \n",
      " 2   message_date  76051 non-null  datetime64[ns]\n",
      " 3   month         76051 non-null  int64         \n",
      "dtypes: datetime64[ns](1), int64(2), object(1)\n",
      "memory usage: 2.3+ MB\n"
     ]
    }
   ],
   "source": [
    "# add month for analysis about monthly usage\n",
    "messages['month'] = messages['message_date'].dt.month\n",
    "messages.info()"
   ]
  },
  {
   "cell_type": "markdown",
   "id": "22a26980",
   "metadata": {},
   "source": [
    "### Preprocessing Users Data"
   ]
  },
  {
   "cell_type": "code",
   "execution_count": 16,
   "id": "085f36ee",
   "metadata": {},
   "outputs": [
    {
     "name": "stdout",
     "output_type": "stream",
     "text": [
      "General dataset information:\n",
      "<class 'pandas.core.frame.DataFrame'>\n",
      "RangeIndex: 500 entries, 0 to 499\n",
      "Data columns (total 8 columns):\n",
      "user_id       500 non-null int64\n",
      "first_name    500 non-null object\n",
      "last_name     500 non-null object\n",
      "age           500 non-null int64\n",
      "city          500 non-null object\n",
      "reg_date      500 non-null object\n",
      "plan          500 non-null object\n",
      "churn_date    34 non-null object\n",
      "dtypes: int64(2), object(6)\n",
      "memory usage: 31.4+ KB\n",
      "None\n",
      "\n",
      "First five rows:\n",
      "   user_id first_name  last_name  age                                   city  \\\n",
      "0     1000   Anamaria      Bauer   45  Atlanta-Sandy Springs-Roswell, GA MSA   \n",
      "1     1001     Mickey  Wilkerson   28        Seattle-Tacoma-Bellevue, WA MSA   \n",
      "2     1002     Carlee    Hoffman   36   Las Vegas-Henderson-Paradise, NV MSA   \n",
      "3     1003   Reynaldo    Jenkins   52                          Tulsa, OK MSA   \n",
      "4     1004    Leonila   Thompson   40        Seattle-Tacoma-Bellevue, WA MSA   \n",
      "\n",
      "     reg_date      plan churn_date  \n",
      "0  2018-12-24  ultimate        NaN  \n",
      "1  2018-08-13      surf        NaN  \n",
      "2  2018-10-21      surf        NaN  \n",
      "3  2018-01-28      surf        NaN  \n",
      "4  2018-05-23      surf        NaN  \n",
      "\n",
      "Description of the dataset:\n",
      "           user_id         age\n",
      "count   500.000000  500.000000\n",
      "mean   1249.500000   45.486000\n",
      "std     144.481833   16.972269\n",
      "min    1000.000000   18.000000\n",
      "25%    1124.750000   30.000000\n",
      "50%    1249.500000   46.000000\n",
      "75%    1374.250000   61.000000\n",
      "max    1499.000000   75.000000\n",
      "\n",
      "This dataset has 0 duplicates.\n",
      "\n",
      "How many missing values does this data have?\n",
      "user_id         0\n",
      "first_name      0\n",
      "last_name       0\n",
      "age             0\n",
      "city            0\n",
      "reg_date        0\n",
      "plan            0\n",
      "churn_date    466\n",
      "dtype: int64\n",
      "\n",
      "What is the percentage of the missing values?\n",
      "user_id       0.000\n",
      "first_name    0.000\n",
      "last_name     0.000\n",
      "age           0.000\n",
      "city          0.000\n",
      "reg_date      0.000\n",
      "plan          0.000\n",
      "churn_date    0.932\n",
      "dtype: float64\n"
     ]
    }
   ],
   "source": [
    "data_info(users)"
   ]
  },
  {
   "cell_type": "markdown",
   "id": "94e6f3a0",
   "metadata": {},
   "source": [
    "The users dataset does not have duplicates, but it has around 9% of missing values in the churn dataset. It might be the users that are still using the service. So, we will leave it be, and change the data type of columns that need changing and add relevant columns."
   ]
  },
  {
   "cell_type": "code",
   "execution_count": 24,
   "id": "418fd67c",
   "metadata": {},
   "outputs": [],
   "source": [
    "# change the date format\n",
    "users['reg_date'] = pd.to_datetime(users['reg_date'], format='%Y-%m-%d')\n",
    "users['churn_date'] = pd.to_datetime(users['churn_date'], format='%Y-%m-%d')"
   ]
  },
  {
   "cell_type": "code",
   "execution_count": 32,
   "id": "5b9536b7",
   "metadata": {},
   "outputs": [],
   "source": [
    "# group the age column\n",
    "bins = [17, 30, 45, 60, 76]\n",
    "labels = ['18-30', '31-45', '46-60', 'above 60']\n",
    "\n",
    "users['age_group'] = pd.cut(users['age'], bins=bins, labels=labels)"
   ]
  },
  {
   "cell_type": "code",
   "execution_count": 33,
   "id": "a28340a9",
   "metadata": {},
   "outputs": [
    {
     "data": {
      "text/plain": [
       "18-30       132\n",
       "46-60       126\n",
       "above 60    126\n",
       "31-45       116\n",
       "Name: age_group, dtype: int64"
      ]
     },
     "execution_count": 33,
     "metadata": {},
     "output_type": "execute_result"
    }
   ],
   "source": [
    "users['age_group'].value_counts()"
   ]
  },
  {
   "cell_type": "code",
   "execution_count": 34,
   "id": "bf42a1e0",
   "metadata": {},
   "outputs": [
    {
     "data": {
      "text/html": [
       "<div>\n",
       "<style scoped>\n",
       "    .dataframe tbody tr th:only-of-type {\n",
       "        vertical-align: middle;\n",
       "    }\n",
       "\n",
       "    .dataframe tbody tr th {\n",
       "        vertical-align: top;\n",
       "    }\n",
       "\n",
       "    .dataframe thead th {\n",
       "        text-align: right;\n",
       "    }\n",
       "</style>\n",
       "<table border=\"1\" class=\"dataframe\">\n",
       "  <thead>\n",
       "    <tr style=\"text-align: right;\">\n",
       "      <th></th>\n",
       "      <th>user_id</th>\n",
       "      <th>age_group</th>\n",
       "      <th>plan</th>\n",
       "      <th>city</th>\n",
       "    </tr>\n",
       "  </thead>\n",
       "  <tbody>\n",
       "    <tr>\n",
       "      <th>0</th>\n",
       "      <td>1000</td>\n",
       "      <td>31-45</td>\n",
       "      <td>ultimate</td>\n",
       "      <td>Atlanta-Sandy Springs-Roswell, GA MSA</td>\n",
       "    </tr>\n",
       "    <tr>\n",
       "      <th>1</th>\n",
       "      <td>1001</td>\n",
       "      <td>18-30</td>\n",
       "      <td>surf</td>\n",
       "      <td>Seattle-Tacoma-Bellevue, WA MSA</td>\n",
       "    </tr>\n",
       "    <tr>\n",
       "      <th>2</th>\n",
       "      <td>1002</td>\n",
       "      <td>31-45</td>\n",
       "      <td>surf</td>\n",
       "      <td>Las Vegas-Henderson-Paradise, NV MSA</td>\n",
       "    </tr>\n",
       "    <tr>\n",
       "      <th>3</th>\n",
       "      <td>1003</td>\n",
       "      <td>46-60</td>\n",
       "      <td>surf</td>\n",
       "      <td>Tulsa, OK MSA</td>\n",
       "    </tr>\n",
       "    <tr>\n",
       "      <th>4</th>\n",
       "      <td>1004</td>\n",
       "      <td>31-45</td>\n",
       "      <td>surf</td>\n",
       "      <td>Seattle-Tacoma-Bellevue, WA MSA</td>\n",
       "    </tr>\n",
       "  </tbody>\n",
       "</table>\n",
       "</div>"
      ],
      "text/plain": [
       "   user_id age_group      plan                                   city\n",
       "0     1000     31-45  ultimate  Atlanta-Sandy Springs-Roswell, GA MSA\n",
       "1     1001     18-30      surf        Seattle-Tacoma-Bellevue, WA MSA\n",
       "2     1002     31-45      surf   Las Vegas-Henderson-Paradise, NV MSA\n",
       "3     1003     46-60      surf                          Tulsa, OK MSA\n",
       "4     1004     31-45      surf        Seattle-Tacoma-Bellevue, WA MSA"
      ]
     },
     "execution_count": 34,
     "metadata": {},
     "output_type": "execute_result"
    }
   ],
   "source": [
    "grouped_users = users[['user_id', 'age_group', 'plan', 'city']]\n",
    "grouped_users.head()"
   ]
  },
  {
   "cell_type": "markdown",
   "id": "1813d971",
   "metadata": {},
   "source": [
    "### Preprocessing Plans Data"
   ]
  },
  {
   "cell_type": "code",
   "execution_count": 20,
   "id": "db158339",
   "metadata": {},
   "outputs": [
    {
     "name": "stdout",
     "output_type": "stream",
     "text": [
      "General dataset information:\n",
      "<class 'pandas.core.frame.DataFrame'>\n",
      "RangeIndex: 2 entries, 0 to 1\n",
      "Data columns (total 8 columns):\n",
      "messages_included        2 non-null int64\n",
      "mb_per_month_included    2 non-null int64\n",
      "minutes_included         2 non-null int64\n",
      "usd_monthly_pay          2 non-null int64\n",
      "usd_per_gb               2 non-null int64\n",
      "usd_per_message          2 non-null float64\n",
      "usd_per_minute           2 non-null float64\n",
      "plan_name                2 non-null object\n",
      "dtypes: float64(2), int64(5), object(1)\n",
      "memory usage: 256.0+ bytes\n",
      "None\n",
      "\n",
      "First five rows:\n",
      "   messages_included  mb_per_month_included  minutes_included  \\\n",
      "0                 50                  15360               500   \n",
      "1               1000                  30720              3000   \n",
      "\n",
      "   usd_monthly_pay  usd_per_gb  usd_per_message  usd_per_minute plan_name  \n",
      "0               20          10             0.03            0.03      surf  \n",
      "1               70           7             0.01            0.01  ultimate  \n",
      "\n",
      "Description of the dataset:\n",
      "       messages_included  mb_per_month_included  minutes_included  \\\n",
      "count           2.000000               2.000000          2.000000   \n",
      "mean          525.000000           23040.000000       1750.000000   \n",
      "std           671.751442           10861.160159       1767.766953   \n",
      "min            50.000000           15360.000000        500.000000   \n",
      "25%           287.500000           19200.000000       1125.000000   \n",
      "50%           525.000000           23040.000000       1750.000000   \n",
      "75%           762.500000           26880.000000       2375.000000   \n",
      "max          1000.000000           30720.000000       3000.000000   \n",
      "\n",
      "       usd_monthly_pay  usd_per_gb  usd_per_message  usd_per_minute  \n",
      "count         2.000000     2.00000         2.000000        2.000000  \n",
      "mean         45.000000     8.50000         0.020000        0.020000  \n",
      "std          35.355339     2.12132         0.014142        0.014142  \n",
      "min          20.000000     7.00000         0.010000        0.010000  \n",
      "25%          32.500000     7.75000         0.015000        0.015000  \n",
      "50%          45.000000     8.50000         0.020000        0.020000  \n",
      "75%          57.500000     9.25000         0.025000        0.025000  \n",
      "max          70.000000    10.00000         0.030000        0.030000  \n",
      "\n",
      "This dataset has 0 duplicates.\n",
      "\n",
      "How many missing values does this data have?\n",
      "messages_included        0\n",
      "mb_per_month_included    0\n",
      "minutes_included         0\n",
      "usd_monthly_pay          0\n",
      "usd_per_gb               0\n",
      "usd_per_message          0\n",
      "usd_per_minute           0\n",
      "plan_name                0\n",
      "dtype: int64\n",
      "\n",
      "What is the percentage of the missing values?\n",
      "messages_included        0.0\n",
      "mb_per_month_included    0.0\n",
      "minutes_included         0.0\n",
      "usd_monthly_pay          0.0\n",
      "usd_per_gb               0.0\n",
      "usd_per_message          0.0\n",
      "usd_per_minute           0.0\n",
      "plan_name                0.0\n",
      "dtype: float64\n"
     ]
    }
   ],
   "source": [
    "data_info(plans)"
   ]
  },
  {
   "cell_type": "markdown",
   "id": "6dee2638",
   "metadata": {},
   "source": [
    "### Conclusion\n",
    "\n",
    "1. All dataset have no missing values, except churn_date in users. Those are active users at the time of data retrieval.\n",
    "2. The calls dataset have a lot of 0 minutes duration calls, nearly 20%. Those might be missed calls. To avoid skewing the analysis, we don't replace those zero values.\n",
    "3. The internet dataset also have a lor of 0 MB internet sessions, around 13%. Those might be attempts to access the internet but the connection wasn't good. To avoid skewing the analysis, we don't replace those zero values.\n",
    "4. On users dataset, we group the users on age groups. \n",
    "5. For further analysis, the date is converted into datetime format and we add month column to calls, messages and internet dataset. "
   ]
  },
  {
   "cell_type": "markdown",
   "id": "96dcbf94",
   "metadata": {},
   "source": [
    "## Exploratory Data Analysis"
   ]
  },
  {
   "cell_type": "markdown",
   "id": "d936309b",
   "metadata": {},
   "source": [
    "In this section, we would analyse the following:\n",
    "1. The number of calls made and minutes used per month\n",
    "2. The number of text messages sent per month\n",
    "3. The volume of data per month\n",
    "4. The monthly revenue from each user"
   ]
  },
  {
   "cell_type": "markdown",
   "id": "e55da77f",
   "metadata": {},
   "source": [
    "### Calls Analysis"
   ]
  },
  {
   "cell_type": "code",
   "execution_count": 36,
   "id": "0e3e1543",
   "metadata": {},
   "outputs": [
    {
     "data": {
      "text/html": [
       "<div>\n",
       "<style scoped>\n",
       "    .dataframe tbody tr th:only-of-type {\n",
       "        vertical-align: middle;\n",
       "    }\n",
       "\n",
       "    .dataframe tbody tr th {\n",
       "        vertical-align: top;\n",
       "    }\n",
       "\n",
       "    .dataframe thead th {\n",
       "        text-align: right;\n",
       "    }\n",
       "</style>\n",
       "<table border=\"1\" class=\"dataframe\">\n",
       "  <thead>\n",
       "    <tr style=\"text-align: right;\">\n",
       "      <th></th>\n",
       "      <th>user_id</th>\n",
       "      <th>month</th>\n",
       "      <th>number_of_calls</th>\n",
       "      <th>total_duration</th>\n",
       "    </tr>\n",
       "  </thead>\n",
       "  <tbody>\n",
       "    <tr>\n",
       "      <th>0</th>\n",
       "      <td>1000</td>\n",
       "      <td>12</td>\n",
       "      <td>16</td>\n",
       "      <td>124.0</td>\n",
       "    </tr>\n",
       "    <tr>\n",
       "      <th>1</th>\n",
       "      <td>1001</td>\n",
       "      <td>8</td>\n",
       "      <td>27</td>\n",
       "      <td>182.0</td>\n",
       "    </tr>\n",
       "    <tr>\n",
       "      <th>2</th>\n",
       "      <td>1001</td>\n",
       "      <td>9</td>\n",
       "      <td>49</td>\n",
       "      <td>315.0</td>\n",
       "    </tr>\n",
       "    <tr>\n",
       "      <th>3</th>\n",
       "      <td>1001</td>\n",
       "      <td>10</td>\n",
       "      <td>65</td>\n",
       "      <td>393.0</td>\n",
       "    </tr>\n",
       "    <tr>\n",
       "      <th>4</th>\n",
       "      <td>1001</td>\n",
       "      <td>11</td>\n",
       "      <td>64</td>\n",
       "      <td>426.0</td>\n",
       "    </tr>\n",
       "  </tbody>\n",
       "</table>\n",
       "</div>"
      ],
      "text/plain": [
       "   user_id  month  number_of_calls  total_duration\n",
       "0     1000     12               16           124.0\n",
       "1     1001      8               27           182.0\n",
       "2     1001      9               49           315.0\n",
       "3     1001     10               65           393.0\n",
       "4     1001     11               64           426.0"
      ]
     },
     "execution_count": 36,
     "metadata": {},
     "output_type": "execute_result"
    }
   ],
   "source": [
    "# group each user's calls usage by month\n",
    "\n",
    "monthly_calls = (calls\n",
    "              .groupby(['user_id', 'month'])\n",
    "              .aggregate({'duration_min' : ['count','sum']})\n",
    "             ).reset_index()\n",
    "monthly_calls.columns = ['user_id', 'month', 'number_of_calls', 'total_duration']\n",
    "\n",
    "monthly_calls.head()"
   ]
  },
  {
   "cell_type": "code",
   "execution_count": 37,
   "id": "70fdac83",
   "metadata": {},
   "outputs": [
    {
     "data": {
      "text/html": [
       "<div>\n",
       "<style scoped>\n",
       "    .dataframe tbody tr th:only-of-type {\n",
       "        vertical-align: middle;\n",
       "    }\n",
       "\n",
       "    .dataframe tbody tr th {\n",
       "        vertical-align: top;\n",
       "    }\n",
       "\n",
       "    .dataframe thead th {\n",
       "        text-align: right;\n",
       "    }\n",
       "</style>\n",
       "<table border=\"1\" class=\"dataframe\">\n",
       "  <thead>\n",
       "    <tr style=\"text-align: right;\">\n",
       "      <th></th>\n",
       "      <th>number_of_calls</th>\n",
       "      <th>total_duration</th>\n",
       "    </tr>\n",
       "  </thead>\n",
       "  <tbody>\n",
       "    <tr>\n",
       "      <th>count</th>\n",
       "      <td>2258.000000</td>\n",
       "      <td>2258.000000</td>\n",
       "    </tr>\n",
       "    <tr>\n",
       "      <th>mean</th>\n",
       "      <td>60.998671</td>\n",
       "      <td>435.937555</td>\n",
       "    </tr>\n",
       "    <tr>\n",
       "      <th>std</th>\n",
       "      <td>31.770869</td>\n",
       "      <td>231.972343</td>\n",
       "    </tr>\n",
       "    <tr>\n",
       "      <th>min</th>\n",
       "      <td>1.000000</td>\n",
       "      <td>0.000000</td>\n",
       "    </tr>\n",
       "    <tr>\n",
       "      <th>25%</th>\n",
       "      <td>39.000000</td>\n",
       "      <td>275.000000</td>\n",
       "    </tr>\n",
       "    <tr>\n",
       "      <th>50%</th>\n",
       "      <td>60.000000</td>\n",
       "      <td>429.000000</td>\n",
       "    </tr>\n",
       "    <tr>\n",
       "      <th>75%</th>\n",
       "      <td>80.000000</td>\n",
       "      <td>574.750000</td>\n",
       "    </tr>\n",
       "    <tr>\n",
       "      <th>max</th>\n",
       "      <td>205.000000</td>\n",
       "      <td>1510.000000</td>\n",
       "    </tr>\n",
       "  </tbody>\n",
       "</table>\n",
       "</div>"
      ],
      "text/plain": [
       "       number_of_calls  total_duration\n",
       "count      2258.000000     2258.000000\n",
       "mean         60.998671      435.937555\n",
       "std          31.770869      231.972343\n",
       "min           1.000000        0.000000\n",
       "25%          39.000000      275.000000\n",
       "50%          60.000000      429.000000\n",
       "75%          80.000000      574.750000\n",
       "max         205.000000     1510.000000"
      ]
     },
     "execution_count": 37,
     "metadata": {},
     "output_type": "execute_result"
    }
   ],
   "source": [
    "monthly_calls[['number_of_calls', 'total_duration']].describe()"
   ]
  },
  {
   "cell_type": "markdown",
   "id": "932e6398",
   "metadata": {},
   "source": [
    "The average and median shows that most users spend 429-435 minutes on calls each month, which is still within the surf plan limit and well under the ultimate plan limit. The maximum any user has spent on calls in a single month in 1510 minutes, which is well over the surf plan but still within the ultimate plan limit. "
   ]
  },
  {
   "cell_type": "code",
   "execution_count": 38,
   "id": "5e058e25",
   "metadata": {},
   "outputs": [
    {
     "data": {
      "image/png": "[encoded data removed]",
      "text/plain": [
       "<Figure size 720x360 with 1 Axes>"
      ]
     },
     "metadata": {
      "needs_background": "light"
     },
     "output_type": "display_data"
    }
   ],
   "source": [
    "monthly_calls['number_of_calls'].hist(bins=10, figsize=(10,5))\n",
    "plt.title(\"Distribution of Overall Users' Monthly Calls\")\n",
    "plt.xlabel('Number of Calls')\n",
    "plt.ylabel('Users');"
   ]
  },
  {
   "cell_type": "markdown",
   "id": "406b6670",
   "metadata": {},
   "source": [
    "In the histogram, we can see that most users have between 50-75 calls per month. Not many users have more than 125 calls per month."
   ]
  },
  {
   "cell_type": "code",
   "execution_count": 40,
   "id": "bc06fcff",
   "metadata": {},
   "outputs": [
    {
     "data": {
      "image/png": "[encoded data removed]",
      "text/plain": [
       "<Figure size 720x360 with 1 Axes>"
      ]
     },
     "metadata": {
      "needs_background": "light"
     },
     "output_type": "display_data"
    }
   ],
   "source": [
    "monthly_calls['total_duration'].hist(bins=50, figsize=(10,5))\n",
    "plt.title(\"Distribution of Overall Users' Monthly Call Duration\")\n",
    "plt.xlabel('Duration in Minutes')\n",
    "plt.ylabel('Users');"
   ]
  },
  {
   "cell_type": "markdown",
   "id": "69dd2318",
   "metadata": {},
   "source": [
    "We can see on the graph that there is a peak around 420 minutes per user per month. There aren't many users who spends more than 800 minutes on call per month. To check the outliers we will plot the duration on a boxplot."
   ]
  },
  {
   "cell_type": "code",
   "execution_count": 41,
   "id": "d432e6cf",
   "metadata": {},
   "outputs": [
    {
     "data": {
      "image/png": "[encoded data removed]",
      "text/plain": [
       "<Figure size 432x720 with 1 Axes>"
      ]
     },
     "metadata": {
      "needs_background": "light"
     },
     "output_type": "display_data"
    }
   ],
   "source": [
    "monthly_calls['total_duration'].plot(kind='box', figsize=(6,10), grid=True)\n",
    "plt.title(\"Boxplot of Overall Users' Monthly Call Duration\")\n",
    "plt.xticks([1], [])\n",
    "plt.ylabel('minutes');"
   ]
  },
  {
   "cell_type": "markdown",
   "id": "db521a86",
   "metadata": {},
   "source": [
    "When we look at the boxplot, call duration above 1000 minutes per month are outliers. The IQR is around 220-590 minutes per user per month."
   ]
  },
  {
   "cell_type": "markdown",
   "id": "7938d51f",
   "metadata": {},
   "source": [
    "### Messages Analysis"
   ]
  },
  {
   "cell_type": "code",
   "execution_count": 42,
   "id": "c5c37aaa",
   "metadata": {},
   "outputs": [
    {
     "data": {
      "text/html": [
       "<div>\n",
       "<style scoped>\n",
       "    .dataframe tbody tr th:only-of-type {\n",
       "        vertical-align: middle;\n",
       "    }\n",
       "\n",
       "    .dataframe tbody tr th {\n",
       "        vertical-align: top;\n",
       "    }\n",
       "\n",
       "    .dataframe thead th {\n",
       "        text-align: right;\n",
       "    }\n",
       "</style>\n",
       "<table border=\"1\" class=\"dataframe\">\n",
       "  <thead>\n",
       "    <tr style=\"text-align: right;\">\n",
       "      <th></th>\n",
       "      <th>user_id</th>\n",
       "      <th>month</th>\n",
       "      <th>total_messages</th>\n",
       "    </tr>\n",
       "  </thead>\n",
       "  <tbody>\n",
       "    <tr>\n",
       "      <th>0</th>\n",
       "      <td>1000</td>\n",
       "      <td>12</td>\n",
       "      <td>11</td>\n",
       "    </tr>\n",
       "    <tr>\n",
       "      <th>1</th>\n",
       "      <td>1001</td>\n",
       "      <td>8</td>\n",
       "      <td>30</td>\n",
       "    </tr>\n",
       "    <tr>\n",
       "      <th>2</th>\n",
       "      <td>1001</td>\n",
       "      <td>9</td>\n",
       "      <td>44</td>\n",
       "    </tr>\n",
       "    <tr>\n",
       "      <th>3</th>\n",
       "      <td>1001</td>\n",
       "      <td>10</td>\n",
       "      <td>53</td>\n",
       "    </tr>\n",
       "    <tr>\n",
       "      <th>4</th>\n",
       "      <td>1001</td>\n",
       "      <td>11</td>\n",
       "      <td>36</td>\n",
       "    </tr>\n",
       "  </tbody>\n",
       "</table>\n",
       "</div>"
      ],
      "text/plain": [
       "   user_id  month  total_messages\n",
       "0     1000     12              11\n",
       "1     1001      8              30\n",
       "2     1001      9              44\n",
       "3     1001     10              53\n",
       "4     1001     11              36"
      ]
     },
     "execution_count": 42,
     "metadata": {},
     "output_type": "execute_result"
    }
   ],
   "source": [
    "#group messages usage by month\n",
    "\n",
    "monthly_text = (messages\n",
    "              .groupby(['user_id', 'month'])\n",
    "              .aggregate({'id' : 'count'})\n",
    "             ).reset_index()\n",
    "monthly_text.columns = ['user_id', 'month', 'total_messages']\n",
    "\n",
    "monthly_text.head()"
   ]
  },
  {
   "cell_type": "code",
   "execution_count": 43,
   "id": "ef72b863",
   "metadata": {},
   "outputs": [
    {
     "data": {
      "text/plain": [
       "count    1806.000000\n",
       "mean       42.110188\n",
       "std        33.122931\n",
       "min         1.000000\n",
       "25%        17.000000\n",
       "50%        34.000000\n",
       "75%        59.000000\n",
       "max       266.000000\n",
       "Name: total_messages, dtype: float64"
      ]
     },
     "execution_count": 43,
     "metadata": {},
     "output_type": "execute_result"
    }
   ],
   "source": [
    "monthly_text['total_messages'].describe()"
   ]
  },
  {
   "cell_type": "markdown",
   "id": "4b476570",
   "metadata": {},
   "source": [
    "The average user sends 42 text messages each month. The maximum amount of messages a user sends a month is 266 messages, which is around 8-9 messages per day in a given month. That is also only slightly over 25% of total ultimate plan limit."
   ]
  },
  {
   "cell_type": "code",
   "execution_count": 29,
   "id": "42b9dc46",
   "metadata": {},
   "outputs": [
    {
     "data": {
      "image/png": "[encoded data removed]",
      "text/plain": [
       "<Figure size 720x360 with 1 Axes>"
      ]
     },
     "metadata": {
      "needs_background": "light"
     },
     "output_type": "display_data"
    }
   ],
   "source": [
    "monthly_text['total_messages'].hist(bins=25, figsize=(10, 5))\n",
    "plt.title(\"Distribution of Users' Monthly Text Messages\")\n",
    "plt.xlabel('Number of Messages')\n",
    "plt.ylabel('Users');"
   ]
  },
  {
   "cell_type": "markdown",
   "id": "167bd280",
   "metadata": {},
   "source": [
    "The data is very positively skewed, as shown in the histogram. There is a steep decline after 40 messages, which reflects the description above."
   ]
  },
  {
   "cell_type": "code",
   "execution_count": 44,
   "id": "eb45850a",
   "metadata": {},
   "outputs": [
    {
     "data": {
      "image/png": "[encoded data removed]",
      "text/plain": [
       "<Figure size 432x576 with 1 Axes>"
      ]
     },
     "metadata": {
      "needs_background": "light"
     },
     "output_type": "display_data"
    }
   ],
   "source": [
    "monthly_text['total_messages'].plot(kind='box', figsize=(6,8), grid=True)\n",
    "plt.title(\"Boxplot of Overall Users' Monthly Text Messages\")\n",
    "plt.xticks([1], [])\n",
    "plt.ylabel('messages');"
   ]
  },
  {
   "cell_type": "markdown",
   "id": "2ffc8128",
   "metadata": {},
   "source": [
    "The IQR is within 17-59 messages per month, and there are many outliers above 120 messages. It is still under the surf plan limit, and well under the ultimate plan limit of 1000 text messages."
   ]
  },
  {
   "cell_type": "markdown",
   "id": "1d4e752d",
   "metadata": {},
   "source": [
    "### Internet Analysis"
   ]
  },
  {
   "cell_type": "code",
   "execution_count": 45,
   "id": "2c54161a",
   "metadata": {},
   "outputs": [
    {
     "data": {
      "text/html": [
       "<div>\n",
       "<style scoped>\n",
       "    .dataframe tbody tr th:only-of-type {\n",
       "        vertical-align: middle;\n",
       "    }\n",
       "\n",
       "    .dataframe tbody tr th {\n",
       "        vertical-align: top;\n",
       "    }\n",
       "\n",
       "    .dataframe thead th {\n",
       "        text-align: right;\n",
       "    }\n",
       "</style>\n",
       "<table border=\"1\" class=\"dataframe\">\n",
       "  <thead>\n",
       "    <tr style=\"text-align: right;\">\n",
       "      <th></th>\n",
       "      <th>user_id</th>\n",
       "      <th>month</th>\n",
       "      <th>gb_used</th>\n",
       "    </tr>\n",
       "  </thead>\n",
       "  <tbody>\n",
       "    <tr>\n",
       "      <th>0</th>\n",
       "      <td>1000</td>\n",
       "      <td>12</td>\n",
       "      <td>2.0</td>\n",
       "    </tr>\n",
       "    <tr>\n",
       "      <th>1</th>\n",
       "      <td>1001</td>\n",
       "      <td>8</td>\n",
       "      <td>7.0</td>\n",
       "    </tr>\n",
       "    <tr>\n",
       "      <th>2</th>\n",
       "      <td>1001</td>\n",
       "      <td>9</td>\n",
       "      <td>14.0</td>\n",
       "    </tr>\n",
       "    <tr>\n",
       "      <th>3</th>\n",
       "      <td>1001</td>\n",
       "      <td>10</td>\n",
       "      <td>22.0</td>\n",
       "    </tr>\n",
       "    <tr>\n",
       "      <th>4</th>\n",
       "      <td>1001</td>\n",
       "      <td>11</td>\n",
       "      <td>19.0</td>\n",
       "    </tr>\n",
       "  </tbody>\n",
       "</table>\n",
       "</div>"
      ],
      "text/plain": [
       "   user_id  month  gb_used\n",
       "0     1000     12      2.0\n",
       "1     1001      8      7.0\n",
       "2     1001      9     14.0\n",
       "3     1001     10     22.0\n",
       "4     1001     11     19.0"
      ]
     },
     "execution_count": 45,
     "metadata": {},
     "output_type": "execute_result"
    }
   ],
   "source": [
    "#group internet usage by month\n",
    "\n",
    "monthly_internet = (internet\n",
    "                    .groupby(['user_id', 'month'])\n",
    "                    .aggregate({'mb_used' : lambda x: np.ceil(sum(x)/1024)})\n",
    "                   ).reset_index()\n",
    "monthly_internet.columns = ['user_id','month','gb_used']\n",
    "\n",
    "monthly_internet.head()"
   ]
  },
  {
   "cell_type": "code",
   "execution_count": 33,
   "id": "e5919a1b",
   "metadata": {},
   "outputs": [
    {
     "data": {
      "text/plain": [
       "count    2277.000000\n",
       "mean       16.989021\n",
       "std         7.693683\n",
       "min         1.000000\n",
       "25%        13.000000\n",
       "50%        17.000000\n",
       "75%        21.000000\n",
       "max        70.000000\n",
       "Name: gb_used, dtype: float64"
      ]
     },
     "execution_count": 33,
     "metadata": {},
     "output_type": "execute_result"
    }
   ],
   "source": [
    "monthly_internet['gb_used'].describe()"
   ]
  },
  {
   "cell_type": "markdown",
   "id": "e67c4146",
   "metadata": {},
   "source": [
    "The average user spends nearly 17GB each month, which means it's over the surf plan limit, and Megaline most likely profits from the internet usage."
   ]
  },
  {
   "cell_type": "code",
   "execution_count": 46,
   "id": "18e703e2",
   "metadata": {},
   "outputs": [
    {
     "data": {
      "image/png": "[encoded data removed]",
      "text/plain": [
       "<Figure size 720x360 with 1 Axes>"
      ]
     },
     "metadata": {
      "needs_background": "light"
     },
     "output_type": "display_data"
    }
   ],
   "source": [
    "monthly_internet['gb_used'].hist(bins=10, figsize=(10, 5))\n",
    "plt.title(\"Distribution of Users' Monthly Internet Usage\")\n",
    "plt.xlabel('Usage Volume in Gigabytes')\n",
    "plt.ylabel('Users');"
   ]
  },
  {
   "cell_type": "markdown",
   "id": "7d4c74b1",
   "metadata": {},
   "source": [
    "We can see clearly in the histogram that there is a significant peak between 10-20 GB. There's not many users who use more than 35GB each month."
   ]
  },
  {
   "cell_type": "code",
   "execution_count": 47,
   "id": "12e5d325",
   "metadata": {},
   "outputs": [
    {
     "data": {
      "image/png": "[encoded data removed]",
      "text/plain": [
       "<Figure size 432x576 with 1 Axes>"
      ]
     },
     "metadata": {
      "needs_background": "light"
     },
     "output_type": "display_data"
    }
   ],
   "source": [
    "monthly_internet['gb_used'].plot(kind='box', figsize=(6,8), grid=True)\n",
    "plt.title(\"Boxplot of Overall Users' Monthly Internet Usage\")\n",
    "plt.xticks([1], [])\n",
    "plt.ylabel('gigabytes');"
   ]
  },
  {
   "cell_type": "markdown",
   "id": "908f47d6",
   "metadata": {},
   "source": [
    "The boxplot shows that most users use around 30GB per month and there are many outliers in the data. The biggest internet usage is an outlier of 70GB, more than twice the limit of the ultimate plan. The third quartile shows 21GB, which is still within the ultimate plan limit of 30GB a month."
   ]
  },
  {
   "cell_type": "markdown",
   "id": "96409750",
   "metadata": {},
   "source": [
    "### Overall Revenue Analysis"
   ]
  },
  {
   "cell_type": "markdown",
   "id": "583509ef",
   "metadata": {},
   "source": [
    "In this section, we will analyse the revenue of Megaline, based on the monthly base subscription fee and excess fee charges. We will separate the users based on the plans that they use."
   ]
  },
  {
   "cell_type": "code",
   "execution_count": 48,
   "id": "dc68dd9b",
   "metadata": {},
   "outputs": [
    {
     "data": {
      "text/html": [
       "<div>\n",
       "<style scoped>\n",
       "    .dataframe tbody tr th:only-of-type {\n",
       "        vertical-align: middle;\n",
       "    }\n",
       "\n",
       "    .dataframe tbody tr th {\n",
       "        vertical-align: top;\n",
       "    }\n",
       "\n",
       "    .dataframe thead th {\n",
       "        text-align: right;\n",
       "    }\n",
       "</style>\n",
       "<table border=\"1\" class=\"dataframe\">\n",
       "  <thead>\n",
       "    <tr style=\"text-align: right;\">\n",
       "      <th></th>\n",
       "      <th>messages_included</th>\n",
       "      <th>mb_per_month_included</th>\n",
       "      <th>minutes_included</th>\n",
       "      <th>usd_monthly_pay</th>\n",
       "      <th>usd_per_gb</th>\n",
       "      <th>usd_per_message</th>\n",
       "      <th>usd_per_minute</th>\n",
       "      <th>plan_name</th>\n",
       "    </tr>\n",
       "  </thead>\n",
       "  <tbody>\n",
       "    <tr>\n",
       "      <th>0</th>\n",
       "      <td>50</td>\n",
       "      <td>15360</td>\n",
       "      <td>500</td>\n",
       "      <td>20</td>\n",
       "      <td>10</td>\n",
       "      <td>0.03</td>\n",
       "      <td>0.03</td>\n",
       "      <td>surf</td>\n",
       "    </tr>\n",
       "    <tr>\n",
       "      <th>1</th>\n",
       "      <td>1000</td>\n",
       "      <td>30720</td>\n",
       "      <td>3000</td>\n",
       "      <td>70</td>\n",
       "      <td>7</td>\n",
       "      <td>0.01</td>\n",
       "      <td>0.01</td>\n",
       "      <td>ultimate</td>\n",
       "    </tr>\n",
       "  </tbody>\n",
       "</table>\n",
       "</div>"
      ],
      "text/plain": [
       "   messages_included  mb_per_month_included  minutes_included  \\\n",
       "0                 50                  15360               500   \n",
       "1               1000                  30720              3000   \n",
       "\n",
       "   usd_monthly_pay  usd_per_gb  usd_per_message  usd_per_minute plan_name  \n",
       "0               20          10             0.03            0.03      surf  \n",
       "1               70           7             0.01            0.01  ultimate  "
      ]
     },
     "execution_count": 48,
     "metadata": {},
     "output_type": "execute_result"
    }
   ],
   "source": [
    "plans"
   ]
  },
  {
   "cell_type": "code",
   "execution_count": 50,
   "id": "919c4cee",
   "metadata": {},
   "outputs": [],
   "source": [
    "#separate users by their plan\n",
    "surf_users = grouped_users.query('plan == \"surf\"')['user_id']\n",
    "ultimate_users = grouped_users.query('plan == \"ultimate\"')['user_id']"
   ]
  },
  {
   "cell_type": "markdown",
   "id": "14e550d0",
   "metadata": {},
   "source": [
    "#### Calls"
   ]
  },
  {
   "cell_type": "code",
   "execution_count": 51,
   "id": "b66676c1",
   "metadata": {},
   "outputs": [],
   "source": [
    "# calculate the number of users exceeding their call limit\n",
    "def excess_calls(row):\n",
    "    \"\"\"This function calculates the excess usage of calls dataset.\n",
    "    \n",
    "    This function takes the row of a specific column in the dataset \n",
    "    and produces the excess amount in the newly created column.\"\"\"\n",
    "    if row['user_id'] in surf_users.values:\n",
    "        if row['total_duration'] <= 500:\n",
    "            return 0\n",
    "        else:\n",
    "            excess = row['total_duration'] - 500\n",
    "            return excess\n",
    "    else:\n",
    "        if row['total_duration'] <= 3000:\n",
    "            return 0\n",
    "        else:\n",
    "            excess = row['total_duration'] - 3000\n",
    "            return excess\n",
    "            \n",
    "monthly_calls['excess_minutes'] = monthly_calls.apply(excess_calls,axis=1)"
   ]
  },
  {
   "cell_type": "code",
   "execution_count": 53,
   "id": "a1d63df9",
   "metadata": {},
   "outputs": [],
   "source": [
    "# calculate the revenue from calls\n",
    "def calls_revenue(row):\n",
    "    \"\"\"This function calculates the revenue from users' calls usage.\n",
    "    \n",
    "    This function takes the excess usage of each user \n",
    "    and produces the total revenue in the newly created column.\"\"\"\n",
    "    if row['user_id'] in surf_users.values:\n",
    "        if row['excess_minutes'] == 0:\n",
    "            return 0\n",
    "        else:\n",
    "            revenue = row['excess_minutes'] * 0.03\n",
    "            return revenue\n",
    "    else:\n",
    "        if row['excess_minutes'] == 0:\n",
    "            return 0\n",
    "        else:\n",
    "            revenue = row['excess_minutes'] * 0.01\n",
    "            return revenue\n",
    "            \n",
    "monthly_calls['calls_revenue'] = monthly_calls.apply(calls_revenue,axis=1)"
   ]
  },
  {
   "cell_type": "code",
   "execution_count": 54,
   "id": "49082aa3",
   "metadata": {},
   "outputs": [
    {
     "data": {
      "text/html": [
       "<div>\n",
       "<style scoped>\n",
       "    .dataframe tbody tr th:only-of-type {\n",
       "        vertical-align: middle;\n",
       "    }\n",
       "\n",
       "    .dataframe tbody tr th {\n",
       "        vertical-align: top;\n",
       "    }\n",
       "\n",
       "    .dataframe thead th {\n",
       "        text-align: right;\n",
       "    }\n",
       "</style>\n",
       "<table border=\"1\" class=\"dataframe\">\n",
       "  <thead>\n",
       "    <tr style=\"text-align: right;\">\n",
       "      <th></th>\n",
       "      <th>user_id</th>\n",
       "      <th>month</th>\n",
       "      <th>number_of_calls</th>\n",
       "      <th>total_duration</th>\n",
       "      <th>excess_minutes</th>\n",
       "      <th>calls_revenue</th>\n",
       "    </tr>\n",
       "  </thead>\n",
       "  <tbody>\n",
       "    <tr>\n",
       "      <th>9</th>\n",
       "      <td>1003</td>\n",
       "      <td>12</td>\n",
       "      <td>149</td>\n",
       "      <td>1104.0</td>\n",
       "      <td>604.0</td>\n",
       "      <td>18.12</td>\n",
       "    </tr>\n",
       "    <tr>\n",
       "      <th>23</th>\n",
       "      <td>1007</td>\n",
       "      <td>10</td>\n",
       "      <td>80</td>\n",
       "      <td>645.0</td>\n",
       "      <td>145.0</td>\n",
       "      <td>4.35</td>\n",
       "    </tr>\n",
       "    <tr>\n",
       "      <th>24</th>\n",
       "      <td>1007</td>\n",
       "      <td>11</td>\n",
       "      <td>80</td>\n",
       "      <td>524.0</td>\n",
       "      <td>24.0</td>\n",
       "      <td>0.72</td>\n",
       "    </tr>\n",
       "    <tr>\n",
       "      <th>25</th>\n",
       "      <td>1007</td>\n",
       "      <td>12</td>\n",
       "      <td>87</td>\n",
       "      <td>617.0</td>\n",
       "      <td>117.0</td>\n",
       "      <td>3.51</td>\n",
       "    </tr>\n",
       "    <tr>\n",
       "      <th>29</th>\n",
       "      <td>1009</td>\n",
       "      <td>5</td>\n",
       "      <td>71</td>\n",
       "      <td>534.0</td>\n",
       "      <td>34.0</td>\n",
       "      <td>1.02</td>\n",
       "    </tr>\n",
       "  </tbody>\n",
       "</table>\n",
       "</div>"
      ],
      "text/plain": [
       "    user_id  month  number_of_calls  total_duration  excess_minutes  \\\n",
       "9      1003     12              149          1104.0           604.0   \n",
       "23     1007     10               80           645.0           145.0   \n",
       "24     1007     11               80           524.0            24.0   \n",
       "25     1007     12               87           617.0           117.0   \n",
       "29     1009      5               71           534.0            34.0   \n",
       "\n",
       "    calls_revenue  \n",
       "9           18.12  \n",
       "23           4.35  \n",
       "24           0.72  \n",
       "25           3.51  \n",
       "29           1.02  "
      ]
     },
     "execution_count": 54,
     "metadata": {},
     "output_type": "execute_result"
    }
   ],
   "source": [
    "monthly_calls.loc[monthly_calls['excess_minutes'] > 0].head()"
   ]
  },
  {
   "cell_type": "markdown",
   "id": "e8428765",
   "metadata": {},
   "source": [
    "#### Messages"
   ]
  },
  {
   "cell_type": "code",
   "execution_count": 56,
   "id": "57c0174c",
   "metadata": {
    "scrolled": false
   },
   "outputs": [],
   "source": [
    "# calculate the number of users exceeding their messages limit\n",
    "def excess_text(row):\n",
    "    \"\"\"This function calculates the excess usage of messages dataset.\n",
    "    \n",
    "    This function takes the row of a specific column in the dataset \n",
    "    and produces the excess amount in the newly created column.\"\"\"\n",
    "    if row['user_id'] in surf_users.values:\n",
    "        if row['total_messages'] <= 50:\n",
    "            return 0\n",
    "        else:\n",
    "            excess = row['total_messages'] - 50\n",
    "            return excess\n",
    "    else:\n",
    "        if row['total_messages'] <= 1000:\n",
    "            return 0\n",
    "        else:\n",
    "            excess = row['total_messages'] - 1000\n",
    "            return excess\n",
    "            \n",
    "monthly_text['excess_messages'] = monthly_text.apply(excess_text,axis=1)"
   ]
  },
  {
   "cell_type": "code",
   "execution_count": 57,
   "id": "57e9924c",
   "metadata": {},
   "outputs": [],
   "source": [
    "# calculate the revenue from messages\n",
    "def text_revenue(row):\n",
    "    \"\"\"This function calculates the revenue from users' messages usage.\n",
    "    \n",
    "    This function takes the excess usage of each user \n",
    "    and produces the total revenue in the newly created column.\"\"\"\n",
    "    if row['user_id'] in surf_users.values:\n",
    "        if row['excess_messages'] == 0:\n",
    "            return 0\n",
    "        else:\n",
    "            revenue = row['excess_messages'] * 0.03\n",
    "            return revenue\n",
    "    else:\n",
    "        if row['excess_messages'] == 0:\n",
    "            return 0\n",
    "        else:\n",
    "            revenue = row['excess_messages'] * 0.01\n",
    "            return revenue\n",
    "            \n",
    "monthly_text['messages_revenue'] = monthly_text.apply(text_revenue,axis=1)"
   ]
  },
  {
   "cell_type": "code",
   "execution_count": 58,
   "id": "72a14bf4",
   "metadata": {},
   "outputs": [
    {
     "data": {
      "text/html": [
       "<div>\n",
       "<style scoped>\n",
       "    .dataframe tbody tr th:only-of-type {\n",
       "        vertical-align: middle;\n",
       "    }\n",
       "\n",
       "    .dataframe tbody tr th {\n",
       "        vertical-align: top;\n",
       "    }\n",
       "\n",
       "    .dataframe thead th {\n",
       "        text-align: right;\n",
       "    }\n",
       "</style>\n",
       "<table border=\"1\" class=\"dataframe\">\n",
       "  <thead>\n",
       "    <tr style=\"text-align: right;\">\n",
       "      <th></th>\n",
       "      <th>user_id</th>\n",
       "      <th>month</th>\n",
       "      <th>total_messages</th>\n",
       "      <th>excess_messages</th>\n",
       "      <th>messages_revenue</th>\n",
       "    </tr>\n",
       "  </thead>\n",
       "  <tbody>\n",
       "    <tr>\n",
       "      <th>3</th>\n",
       "      <td>1001</td>\n",
       "      <td>10</td>\n",
       "      <td>53</td>\n",
       "      <td>3</td>\n",
       "      <td>0.09</td>\n",
       "    </tr>\n",
       "    <tr>\n",
       "      <th>21</th>\n",
       "      <td>1007</td>\n",
       "      <td>8</td>\n",
       "      <td>51</td>\n",
       "      <td>1</td>\n",
       "      <td>0.03</td>\n",
       "    </tr>\n",
       "    <tr>\n",
       "      <th>23</th>\n",
       "      <td>1007</td>\n",
       "      <td>10</td>\n",
       "      <td>59</td>\n",
       "      <td>9</td>\n",
       "      <td>0.27</td>\n",
       "    </tr>\n",
       "    <tr>\n",
       "      <th>38</th>\n",
       "      <td>1014</td>\n",
       "      <td>12</td>\n",
       "      <td>64</td>\n",
       "      <td>14</td>\n",
       "      <td>0.42</td>\n",
       "    </tr>\n",
       "    <tr>\n",
       "      <th>39</th>\n",
       "      <td>1015</td>\n",
       "      <td>12</td>\n",
       "      <td>68</td>\n",
       "      <td>18</td>\n",
       "      <td>0.54</td>\n",
       "    </tr>\n",
       "  </tbody>\n",
       "</table>\n",
       "</div>"
      ],
      "text/plain": [
       "    user_id  month  total_messages  excess_messages  messages_revenue\n",
       "3      1001     10              53                3              0.09\n",
       "21     1007      8              51                1              0.03\n",
       "23     1007     10              59                9              0.27\n",
       "38     1014     12              64               14              0.42\n",
       "39     1015     12              68               18              0.54"
      ]
     },
     "execution_count": 58,
     "metadata": {},
     "output_type": "execute_result"
    }
   ],
   "source": [
    "monthly_text.loc[monthly_text['excess_messages'] > 0].head()"
   ]
  },
  {
   "cell_type": "markdown",
   "id": "70625347",
   "metadata": {},
   "source": [
    "#### Internet"
   ]
  },
  {
   "cell_type": "code",
   "execution_count": 59,
   "id": "1fc515ea",
   "metadata": {},
   "outputs": [],
   "source": [
    "# calculate the number of users exceeding their internet usage limit\n",
    "def excess_gb(row):\n",
    "    \"\"\"This function calculates the excess usage of internet dataset.\n",
    "    \n",
    "    This function takes the row of a specific column in the dataset \n",
    "    and produces the excess amount in the newly created column.\"\"\"\n",
    "    if row['user_id'] in surf_users.values:\n",
    "        if row['gb_used'] <= 15:\n",
    "            return 0\n",
    "        else:\n",
    "            excess = row['gb_used'] - 15\n",
    "            return excess\n",
    "    else:\n",
    "        if row['gb_used'] <= 30:\n",
    "            return 0\n",
    "        else:\n",
    "            excess = row['gb_used'] - 30\n",
    "            return excess\n",
    "            \n",
    "monthly_internet['excess_gb'] = monthly_internet.apply(excess_gb,axis=1)"
   ]
  },
  {
   "cell_type": "code",
   "execution_count": 60,
   "id": "04a0c2bb",
   "metadata": {},
   "outputs": [],
   "source": [
    "# calculate the revenue from internet\n",
    "def internet_revenue(row):\n",
    "    \"\"\"This function calculates the revenue from users' internet usage.\n",
    "    \n",
    "    This function takes the excess usage of each user \n",
    "    and produces the total revenue in the newly created column.\"\"\"\n",
    "    if row['user_id'] in surf_users.values:\n",
    "        if row['excess_gb'] == 0:\n",
    "            return 0\n",
    "        else:\n",
    "            revenue = row['excess_gb'] * 10\n",
    "            return revenue\n",
    "    else:\n",
    "        if row['excess_gb'] == 0:\n",
    "            return 0\n",
    "        else:\n",
    "            revenue = row['excess_gb'] * 7\n",
    "            return revenue\n",
    "            \n",
    "monthly_internet['internet_revenue'] = monthly_internet.apply(internet_revenue,axis=1)"
   ]
  },
  {
   "cell_type": "code",
   "execution_count": 61,
   "id": "1558f493",
   "metadata": {},
   "outputs": [
    {
     "data": {
      "text/html": [
       "<div>\n",
       "<style scoped>\n",
       "    .dataframe tbody tr th:only-of-type {\n",
       "        vertical-align: middle;\n",
       "    }\n",
       "\n",
       "    .dataframe tbody tr th {\n",
       "        vertical-align: top;\n",
       "    }\n",
       "\n",
       "    .dataframe thead th {\n",
       "        text-align: right;\n",
       "    }\n",
       "</style>\n",
       "<table border=\"1\" class=\"dataframe\">\n",
       "  <thead>\n",
       "    <tr style=\"text-align: right;\">\n",
       "      <th></th>\n",
       "      <th>user_id</th>\n",
       "      <th>month</th>\n",
       "      <th>gb_used</th>\n",
       "      <th>excess_gb</th>\n",
       "      <th>internet_revenue</th>\n",
       "    </tr>\n",
       "  </thead>\n",
       "  <tbody>\n",
       "    <tr>\n",
       "      <th>3</th>\n",
       "      <td>1001</td>\n",
       "      <td>10</td>\n",
       "      <td>22.0</td>\n",
       "      <td>7.0</td>\n",
       "      <td>70.0</td>\n",
       "    </tr>\n",
       "    <tr>\n",
       "      <th>4</th>\n",
       "      <td>1001</td>\n",
       "      <td>11</td>\n",
       "      <td>19.0</td>\n",
       "      <td>4.0</td>\n",
       "      <td>40.0</td>\n",
       "    </tr>\n",
       "    <tr>\n",
       "      <th>5</th>\n",
       "      <td>1001</td>\n",
       "      <td>12</td>\n",
       "      <td>19.0</td>\n",
       "      <td>4.0</td>\n",
       "      <td>40.0</td>\n",
       "    </tr>\n",
       "    <tr>\n",
       "      <th>7</th>\n",
       "      <td>1002</td>\n",
       "      <td>11</td>\n",
       "      <td>19.0</td>\n",
       "      <td>4.0</td>\n",
       "      <td>40.0</td>\n",
       "    </tr>\n",
       "    <tr>\n",
       "      <th>9</th>\n",
       "      <td>1003</td>\n",
       "      <td>12</td>\n",
       "      <td>27.0</td>\n",
       "      <td>12.0</td>\n",
       "      <td>120.0</td>\n",
       "    </tr>\n",
       "  </tbody>\n",
       "</table>\n",
       "</div>"
      ],
      "text/plain": [
       "   user_id  month  gb_used  excess_gb  internet_revenue\n",
       "3     1001     10     22.0        7.0              70.0\n",
       "4     1001     11     19.0        4.0              40.0\n",
       "5     1001     12     19.0        4.0              40.0\n",
       "7     1002     11     19.0        4.0              40.0\n",
       "9     1003     12     27.0       12.0             120.0"
      ]
     },
     "execution_count": 61,
     "metadata": {},
     "output_type": "execute_result"
    }
   ],
   "source": [
    "monthly_internet.loc[monthly_internet['excess_gb'] > 0].head()"
   ]
  },
  {
   "cell_type": "markdown",
   "id": "b8f5272f",
   "metadata": {},
   "source": [
    "#### Total Excess Usage Per User"
   ]
  },
  {
   "cell_type": "markdown",
   "id": "ab82bf8b",
   "metadata": {},
   "source": [
    "We will now create a specific revenue table to see users' usage behaviour. We merge the calls, text and internet usage columns together. Merging the dataset allows us to look at the bigger picture of overall users' monthly plan usage behaviour and revenue, we will later separate revenue by each plan for further analysis."
   ]
  },
  {
   "cell_type": "code",
   "execution_count": 62,
   "id": "fde9e6bb",
   "metadata": {},
   "outputs": [
    {
     "data": {
      "text/html": [
       "<div>\n",
       "<style scoped>\n",
       "    .dataframe tbody tr th:only-of-type {\n",
       "        vertical-align: middle;\n",
       "    }\n",
       "\n",
       "    .dataframe tbody tr th {\n",
       "        vertical-align: top;\n",
       "    }\n",
       "\n",
       "    .dataframe thead th {\n",
       "        text-align: right;\n",
       "    }\n",
       "</style>\n",
       "<table border=\"1\" class=\"dataframe\">\n",
       "  <thead>\n",
       "    <tr style=\"text-align: right;\">\n",
       "      <th></th>\n",
       "      <th>user_id</th>\n",
       "      <th>month</th>\n",
       "      <th>number_of_calls</th>\n",
       "      <th>total_duration</th>\n",
       "      <th>excess_minutes</th>\n",
       "      <th>calls_revenue</th>\n",
       "      <th>total_messages</th>\n",
       "      <th>excess_messages</th>\n",
       "      <th>messages_revenue</th>\n",
       "      <th>gb_used</th>\n",
       "      <th>excess_gb</th>\n",
       "      <th>internet_revenue</th>\n",
       "    </tr>\n",
       "  </thead>\n",
       "  <tbody>\n",
       "    <tr>\n",
       "      <th>0</th>\n",
       "      <td>1000</td>\n",
       "      <td>12</td>\n",
       "      <td>16.0</td>\n",
       "      <td>124.0</td>\n",
       "      <td>0.0</td>\n",
       "      <td>0.0</td>\n",
       "      <td>11.0</td>\n",
       "      <td>0.0</td>\n",
       "      <td>0.00</td>\n",
       "      <td>2.0</td>\n",
       "      <td>0.0</td>\n",
       "      <td>0.0</td>\n",
       "    </tr>\n",
       "    <tr>\n",
       "      <th>1</th>\n",
       "      <td>1001</td>\n",
       "      <td>8</td>\n",
       "      <td>27.0</td>\n",
       "      <td>182.0</td>\n",
       "      <td>0.0</td>\n",
       "      <td>0.0</td>\n",
       "      <td>30.0</td>\n",
       "      <td>0.0</td>\n",
       "      <td>0.00</td>\n",
       "      <td>7.0</td>\n",
       "      <td>0.0</td>\n",
       "      <td>0.0</td>\n",
       "    </tr>\n",
       "    <tr>\n",
       "      <th>2</th>\n",
       "      <td>1001</td>\n",
       "      <td>9</td>\n",
       "      <td>49.0</td>\n",
       "      <td>315.0</td>\n",
       "      <td>0.0</td>\n",
       "      <td>0.0</td>\n",
       "      <td>44.0</td>\n",
       "      <td>0.0</td>\n",
       "      <td>0.00</td>\n",
       "      <td>14.0</td>\n",
       "      <td>0.0</td>\n",
       "      <td>0.0</td>\n",
       "    </tr>\n",
       "    <tr>\n",
       "      <th>3</th>\n",
       "      <td>1001</td>\n",
       "      <td>10</td>\n",
       "      <td>65.0</td>\n",
       "      <td>393.0</td>\n",
       "      <td>0.0</td>\n",
       "      <td>0.0</td>\n",
       "      <td>53.0</td>\n",
       "      <td>3.0</td>\n",
       "      <td>0.09</td>\n",
       "      <td>22.0</td>\n",
       "      <td>7.0</td>\n",
       "      <td>70.0</td>\n",
       "    </tr>\n",
       "    <tr>\n",
       "      <th>4</th>\n",
       "      <td>1001</td>\n",
       "      <td>11</td>\n",
       "      <td>64.0</td>\n",
       "      <td>426.0</td>\n",
       "      <td>0.0</td>\n",
       "      <td>0.0</td>\n",
       "      <td>36.0</td>\n",
       "      <td>0.0</td>\n",
       "      <td>0.00</td>\n",
       "      <td>19.0</td>\n",
       "      <td>4.0</td>\n",
       "      <td>40.0</td>\n",
       "    </tr>\n",
       "  </tbody>\n",
       "</table>\n",
       "</div>"
      ],
      "text/plain": [
       "   user_id  month  number_of_calls  total_duration  excess_minutes  \\\n",
       "0     1000     12             16.0           124.0             0.0   \n",
       "1     1001      8             27.0           182.0             0.0   \n",
       "2     1001      9             49.0           315.0             0.0   \n",
       "3     1001     10             65.0           393.0             0.0   \n",
       "4     1001     11             64.0           426.0             0.0   \n",
       "\n",
       "   calls_revenue  total_messages  excess_messages  messages_revenue  gb_used  \\\n",
       "0            0.0            11.0              0.0              0.00      2.0   \n",
       "1            0.0            30.0              0.0              0.00      7.0   \n",
       "2            0.0            44.0              0.0              0.00     14.0   \n",
       "3            0.0            53.0              3.0              0.09     22.0   \n",
       "4            0.0            36.0              0.0              0.00     19.0   \n",
       "\n",
       "   excess_gb  internet_revenue  \n",
       "0        0.0               0.0  \n",
       "1        0.0               0.0  \n",
       "2        0.0               0.0  \n",
       "3        7.0              70.0  \n",
       "4        4.0              40.0  "
      ]
     },
     "execution_count": 62,
     "metadata": {},
     "output_type": "execute_result"
    }
   ],
   "source": [
    "# merge the excess usage and monthly revenue from all services\n",
    "revenue = (monthly_calls\n",
    "           .merge(monthly_text, on = ['user_id', 'month'], how = 'outer')\n",
    "           .merge(monthly_internet, on = ['user_id', 'month'], how = 'outer')\n",
    "          )\n",
    "\n",
    "revenue.head()"
   ]
  },
  {
   "cell_type": "markdown",
   "id": "1acfdd0d",
   "metadata": {},
   "source": [
    "The missing value in this merged dataset happens because the user hasn't used that particular service in that month but has used other services. Therefore we can replace the NaN value with 0 for easy calculation."
   ]
  },
  {
   "cell_type": "code",
   "execution_count": 63,
   "id": "2d65b9b5",
   "metadata": {},
   "outputs": [
    {
     "data": {
      "text/plain": [
       "user_id             0\n",
       "month               0\n",
       "number_of_calls     0\n",
       "total_duration      0\n",
       "excess_minutes      0\n",
       "calls_revenue       0\n",
       "total_messages      0\n",
       "excess_messages     0\n",
       "messages_revenue    0\n",
       "gb_used             0\n",
       "excess_gb           0\n",
       "internet_revenue    0\n",
       "dtype: int64"
      ]
     },
     "execution_count": 63,
     "metadata": {},
     "output_type": "execute_result"
    }
   ],
   "source": [
    "# fill in the missing values in revenue data\n",
    "revenue = revenue.fillna(0)\n",
    "revenue.isna().sum()"
   ]
  },
  {
   "cell_type": "code",
   "execution_count": 64,
   "id": "1a3db757",
   "metadata": {
    "scrolled": false
   },
   "outputs": [
    {
     "data": {
      "text/html": [
       "<div>\n",
       "<style scoped>\n",
       "    .dataframe tbody tr th:only-of-type {\n",
       "        vertical-align: middle;\n",
       "    }\n",
       "\n",
       "    .dataframe tbody tr th {\n",
       "        vertical-align: top;\n",
       "    }\n",
       "\n",
       "    .dataframe thead th {\n",
       "        text-align: right;\n",
       "    }\n",
       "</style>\n",
       "<table border=\"1\" class=\"dataframe\">\n",
       "  <thead>\n",
       "    <tr style=\"text-align: right;\">\n",
       "      <th></th>\n",
       "      <th>user_id</th>\n",
       "      <th>month</th>\n",
       "      <th>number_of_calls</th>\n",
       "      <th>total_duration</th>\n",
       "      <th>excess_minutes</th>\n",
       "      <th>calls_revenue</th>\n",
       "      <th>total_messages</th>\n",
       "      <th>excess_messages</th>\n",
       "      <th>messages_revenue</th>\n",
       "      <th>gb_used</th>\n",
       "      <th>excess_gb</th>\n",
       "      <th>internet_revenue</th>\n",
       "      <th>total_revenue</th>\n",
       "    </tr>\n",
       "  </thead>\n",
       "  <tbody>\n",
       "    <tr>\n",
       "      <th>0</th>\n",
       "      <td>1000</td>\n",
       "      <td>12</td>\n",
       "      <td>16.0</td>\n",
       "      <td>124.0</td>\n",
       "      <td>0.0</td>\n",
       "      <td>0.0</td>\n",
       "      <td>11.0</td>\n",
       "      <td>0.0</td>\n",
       "      <td>0.00</td>\n",
       "      <td>2.0</td>\n",
       "      <td>0.0</td>\n",
       "      <td>0.0</td>\n",
       "      <td>70.00</td>\n",
       "    </tr>\n",
       "    <tr>\n",
       "      <th>1</th>\n",
       "      <td>1001</td>\n",
       "      <td>8</td>\n",
       "      <td>27.0</td>\n",
       "      <td>182.0</td>\n",
       "      <td>0.0</td>\n",
       "      <td>0.0</td>\n",
       "      <td>30.0</td>\n",
       "      <td>0.0</td>\n",
       "      <td>0.00</td>\n",
       "      <td>7.0</td>\n",
       "      <td>0.0</td>\n",
       "      <td>0.0</td>\n",
       "      <td>20.00</td>\n",
       "    </tr>\n",
       "    <tr>\n",
       "      <th>2</th>\n",
       "      <td>1001</td>\n",
       "      <td>9</td>\n",
       "      <td>49.0</td>\n",
       "      <td>315.0</td>\n",
       "      <td>0.0</td>\n",
       "      <td>0.0</td>\n",
       "      <td>44.0</td>\n",
       "      <td>0.0</td>\n",
       "      <td>0.00</td>\n",
       "      <td>14.0</td>\n",
       "      <td>0.0</td>\n",
       "      <td>0.0</td>\n",
       "      <td>20.00</td>\n",
       "    </tr>\n",
       "    <tr>\n",
       "      <th>3</th>\n",
       "      <td>1001</td>\n",
       "      <td>10</td>\n",
       "      <td>65.0</td>\n",
       "      <td>393.0</td>\n",
       "      <td>0.0</td>\n",
       "      <td>0.0</td>\n",
       "      <td>53.0</td>\n",
       "      <td>3.0</td>\n",
       "      <td>0.09</td>\n",
       "      <td>22.0</td>\n",
       "      <td>7.0</td>\n",
       "      <td>70.0</td>\n",
       "      <td>90.09</td>\n",
       "    </tr>\n",
       "    <tr>\n",
       "      <th>4</th>\n",
       "      <td>1001</td>\n",
       "      <td>11</td>\n",
       "      <td>64.0</td>\n",
       "      <td>426.0</td>\n",
       "      <td>0.0</td>\n",
       "      <td>0.0</td>\n",
       "      <td>36.0</td>\n",
       "      <td>0.0</td>\n",
       "      <td>0.00</td>\n",
       "      <td>19.0</td>\n",
       "      <td>4.0</td>\n",
       "      <td>40.0</td>\n",
       "      <td>60.00</td>\n",
       "    </tr>\n",
       "  </tbody>\n",
       "</table>\n",
       "</div>"
      ],
      "text/plain": [
       "   user_id  month  number_of_calls  total_duration  excess_minutes  \\\n",
       "0     1000     12             16.0           124.0             0.0   \n",
       "1     1001      8             27.0           182.0             0.0   \n",
       "2     1001      9             49.0           315.0             0.0   \n",
       "3     1001     10             65.0           393.0             0.0   \n",
       "4     1001     11             64.0           426.0             0.0   \n",
       "\n",
       "   calls_revenue  total_messages  excess_messages  messages_revenue  gb_used  \\\n",
       "0            0.0            11.0              0.0              0.00      2.0   \n",
       "1            0.0            30.0              0.0              0.00      7.0   \n",
       "2            0.0            44.0              0.0              0.00     14.0   \n",
       "3            0.0            53.0              3.0              0.09     22.0   \n",
       "4            0.0            36.0              0.0              0.00     19.0   \n",
       "\n",
       "   excess_gb  internet_revenue  total_revenue  \n",
       "0        0.0               0.0          70.00  \n",
       "1        0.0               0.0          20.00  \n",
       "2        0.0               0.0          20.00  \n",
       "3        7.0              70.0          90.09  \n",
       "4        4.0              40.0          60.00  "
      ]
     },
     "execution_count": 64,
     "metadata": {},
     "output_type": "execute_result"
    }
   ],
   "source": [
    "# calculate total revenue and store them in a new column\n",
    "def total_revenue(row):\n",
    "    if row['user_id'] in surf_users.values:\n",
    "        total_revenue = 20 + row['calls_revenue'] + row['messages_revenue'] + row['internet_revenue']\n",
    "        return total_revenue\n",
    "    else: \n",
    "        total_revenue = 70 + row['calls_revenue'] + row['messages_revenue'] + row['internet_revenue']\n",
    "        return total_revenue\n",
    "    \n",
    "revenue['total_revenue'] = revenue.apply(total_revenue, axis=1)\n",
    "\n",
    "revenue.head()"
   ]
  },
  {
   "cell_type": "code",
   "execution_count": 65,
   "id": "c75f94b3",
   "metadata": {},
   "outputs": [
    {
     "data": {
      "image/png": "[encoded data removed]",
      "text/plain": [
       "<Figure size 720x360 with 1 Axes>"
      ]
     },
     "metadata": {
      "needs_background": "light"
     },
     "output_type": "display_data"
    }
   ],
   "source": [
    "revenue['total_revenue'].hist(bins=30, figsize=(10, 5))\n",
    "plt.title(\"Distribution of Users' Monthly Revenue\")\n",
    "plt.xlabel('Monthly Revenue')\n",
    "plt.ylabel('Users');"
   ]
  },
  {
   "cell_type": "markdown",
   "id": "6c07d08a",
   "metadata": {},
   "source": [
    "Based on the histogram, we can see that:\n",
    "- most users pay the standard plan package of USD20 for Surf plan and USD70 for Ultimate plan.\n",
    "- even though there are more Surf users than Ultimate users, there are more people paying USD70 than USD20, which means most of Surf users exceed their plan limit and have to pay excess fees."
   ]
  },
  {
   "cell_type": "markdown",
   "id": "e903b7cb",
   "metadata": {},
   "source": [
    "### Each Plan's Revenue Analysis"
   ]
  },
  {
   "cell_type": "code",
   "execution_count": 68,
   "id": "20446f24",
   "metadata": {},
   "outputs": [],
   "source": [
    "# separate revenue by each plan for analysis  \n",
    "surf_revenue = revenue.query('user_id in @surf_users.values')\n",
    "ultimate_revenue = revenue.query('user_id in @ultimate_users.values')"
   ]
  },
  {
   "cell_type": "code",
   "execution_count": 74,
   "id": "f4d4d12e",
   "metadata": {},
   "outputs": [
    {
     "data": {
      "image/png": "[encoded data removed]",
      "text/plain": [
       "<Figure size 720x360 with 1 Axes>"
      ]
     },
     "metadata": {
      "needs_background": "light"
     },
     "output_type": "display_data"
    }
   ],
   "source": [
    "# compare each plan's revenue\n",
    "surf_revenue['total_revenue'].hist(bins=100, figsize=(10,5), range=(0,400), label='Surf')\n",
    "ultimate_revenue['total_revenue'].hist(bins=100, figsize=(10,5), range=(0,400), label='Ultimate')\n",
    "plt.title(\"Comparison of Each Plan's Monthly Revenue\")\n",
    "plt.xlabel('revenue in dollars')\n",
    "plt.ylabel('users')\n",
    "plt.legend();"
   ]
  },
  {
   "cell_type": "markdown",
   "id": "0ccb7dc9",
   "metadata": {},
   "source": [
    "From the histogram, it looks like a lot of Surf users are not exceeding their plan limit and only paying USD20 per month. The same goes for Ultimate users who are only paying the base subscription fee of USD70."
   ]
  },
  {
   "cell_type": "code",
   "execution_count": 96,
   "id": "eac284a4",
   "metadata": {},
   "outputs": [
    {
     "data": {
      "image/png": "[encoded data removed]",
      "text/plain": [
       "<Figure size 576x432 with 1 Axes>"
      ]
     },
     "metadata": {
      "needs_background": "light"
     },
     "output_type": "display_data"
    }
   ],
   "source": [
    "data_a = surf_revenue['total_revenue']\n",
    "data_b = ultimate_revenue['total_revenue']\n",
    "\n",
    "ticks = ['Surf', 'Ultimate']\n",
    "\n",
    "def set_box_color(bp, color):\n",
    "    plt.setp(bp['boxes'], color=color)\n",
    "    plt.setp(bp['whiskers'], color=color)\n",
    "    plt.setp(bp['caps'], color=color)\n",
    "    plt.setp(bp['medians'], color=color)\n",
    "\n",
    "plt.figure(figsize=(8,6))\n",
    "\n",
    "bpl = plt.boxplot(data_a, positions=[0], widths = 0.6)\n",
    "bpr = plt.boxplot(data_b, positions=[2], widths = 0.6)\n",
    "set_box_color(bpl, '#D7191C')\n",
    "set_box_color(bpr, '#2C7BB6')\n",
    "\n",
    "plt.plot([], c='#D7191C', label='Surf')\n",
    "plt.plot([], c='#2C7BB6', label='Ultimate')\n",
    "plt.legend()\n",
    "\n",
    "plt.title(\"Boxplot of Users' Monthly Revenue Based on Each Plan\")\n",
    "plt.xticks(range(0, len(ticks) * 2, 2), ticks)\n",
    "plt.xlim(-2, len(ticks)*2)\n",
    "plt.grid()\n",
    "plt.tight_layout();"
   ]
  },
  {
   "cell_type": "markdown",
   "id": "da780f27",
   "metadata": {},
   "source": [
    "When we look closer at the boxplot, the third quartile is located nearly USD100 per month and the upper whisker goes up to nearly USD200 per month. This shows that a lot of Surf users exceed the plan limits. Meanwhile, Ultimate users very rarely exceed their plan limit, which is reflected as well in the boxplot where the IQR is very tight with only a few outliers up to USD180."
   ]
  },
  {
   "cell_type": "code",
   "execution_count": 78,
   "id": "860b006a",
   "metadata": {},
   "outputs": [
    {
     "name": "stdout",
     "output_type": "stream",
     "text": [
      "The percentage of surf plan users who exceeds their plan limit is 72.60%\n",
      "The percentage of surf plan users who incurs excess usage fee more than $70 is 31.15%\n"
     ]
    }
   ],
   "source": [
    "print('The percentage of surf plan users who exceeds their plan limit is {:.2%}'.format(len(surf_revenue.query('total_revenue > 20')) / len(surf_revenue)))\n",
    "print('The percentage of surf plan users who incurs excess usage fee more than $70 is {:.2%}'.format(len(surf_revenue.query('total_revenue > 70')) / len(surf_revenue)))"
   ]
  },
  {
   "cell_type": "markdown",
   "id": "242e93e6",
   "metadata": {},
   "source": [
    "We can see on the numbers above, 72.6% of total Surf users are exceeding their plan limit, and more than 30% are incurring fee of more than USD70. These users might as well get the Ultimate plan."
   ]
  },
  {
   "cell_type": "markdown",
   "id": "e2041701",
   "metadata": {},
   "source": [
    "## Comparison between Each Plans' Service Usage"
   ]
  },
  {
   "cell_type": "code",
   "execution_count": 82,
   "id": "6a73c66e",
   "metadata": {},
   "outputs": [],
   "source": [
    "def usage_info(df):\n",
    "    \"\"\"This function creates a pivot table for each plan's usage.\n",
    "    \n",
    "    This function takes the relevant dataset as variable \n",
    "    and produces a new table with specific columns.\"\"\"\n",
    "    new_df = df.pivot_table(\n",
    "        index='user_id', \n",
    "        values=['total_duration', 'total_messages', 'gb_used', 'total_revenue'], \n",
    "        aggfunc='median').reset_index()\n",
    "    \n",
    "    return new_df"
   ]
  },
  {
   "cell_type": "code",
   "execution_count": 88,
   "id": "c96db79e",
   "metadata": {},
   "outputs": [],
   "source": [
    "usage_surf = usage_info(surf_revenue)\n",
    "usage_ultimate = usage_info(ultimate_revenue)\n",
    "usage_all = usage_info(revenue)"
   ]
  },
  {
   "cell_type": "code",
   "execution_count": 89,
   "id": "2e304863",
   "metadata": {},
   "outputs": [
    {
     "data": {
      "text/html": [
       "<div>\n",
       "<style scoped>\n",
       "    .dataframe tbody tr th:only-of-type {\n",
       "        vertical-align: middle;\n",
       "    }\n",
       "\n",
       "    .dataframe tbody tr th {\n",
       "        vertical-align: top;\n",
       "    }\n",
       "\n",
       "    .dataframe thead th {\n",
       "        text-align: right;\n",
       "    }\n",
       "</style>\n",
       "<table border=\"1\" class=\"dataframe\">\n",
       "  <thead>\n",
       "    <tr style=\"text-align: right;\">\n",
       "      <th></th>\n",
       "      <th>user_id</th>\n",
       "      <th>gb_used</th>\n",
       "      <th>total_duration</th>\n",
       "      <th>total_messages</th>\n",
       "      <th>total_revenue</th>\n",
       "    </tr>\n",
       "  </thead>\n",
       "  <tbody>\n",
       "    <tr>\n",
       "      <th>0</th>\n",
       "      <td>1001</td>\n",
       "      <td>19.0</td>\n",
       "      <td>393.0</td>\n",
       "      <td>44.0</td>\n",
       "      <td>60.00</td>\n",
       "    </tr>\n",
       "    <tr>\n",
       "      <th>1</th>\n",
       "      <td>1002</td>\n",
       "      <td>15.0</td>\n",
       "      <td>384.0</td>\n",
       "      <td>32.0</td>\n",
       "      <td>20.00</td>\n",
       "    </tr>\n",
       "    <tr>\n",
       "      <th>2</th>\n",
       "      <td>1003</td>\n",
       "      <td>27.0</td>\n",
       "      <td>1104.0</td>\n",
       "      <td>50.0</td>\n",
       "      <td>158.12</td>\n",
       "    </tr>\n",
       "    <tr>\n",
       "      <th>3</th>\n",
       "      <td>1004</td>\n",
       "      <td>21.0</td>\n",
       "      <td>359.5</td>\n",
       "      <td>24.5</td>\n",
       "      <td>80.00</td>\n",
       "    </tr>\n",
       "    <tr>\n",
       "      <th>4</th>\n",
       "      <td>1005</td>\n",
       "      <td>17.0</td>\n",
       "      <td>496.0</td>\n",
       "      <td>11.0</td>\n",
       "      <td>40.00</td>\n",
       "    </tr>\n",
       "  </tbody>\n",
       "</table>\n",
       "</div>"
      ],
      "text/plain": [
       "   user_id  gb_used  total_duration  total_messages  total_revenue\n",
       "0     1001     19.0           393.0            44.0          60.00\n",
       "1     1002     15.0           384.0            32.0          20.00\n",
       "2     1003     27.0          1104.0            50.0         158.12\n",
       "3     1004     21.0           359.5            24.5          80.00\n",
       "4     1005     17.0           496.0            11.0          40.00"
      ]
     },
     "execution_count": 89,
     "metadata": {},
     "output_type": "execute_result"
    }
   ],
   "source": [
    "usage_surf.head()"
   ]
  },
  {
   "cell_type": "code",
   "execution_count": 90,
   "id": "ffc58305",
   "metadata": {},
   "outputs": [
    {
     "data": {
      "text/html": [
       "<div>\n",
       "<style scoped>\n",
       "    .dataframe tbody tr th:only-of-type {\n",
       "        vertical-align: middle;\n",
       "    }\n",
       "\n",
       "    .dataframe tbody tr th {\n",
       "        vertical-align: top;\n",
       "    }\n",
       "\n",
       "    .dataframe thead th {\n",
       "        text-align: right;\n",
       "    }\n",
       "</style>\n",
       "<table border=\"1\" class=\"dataframe\">\n",
       "  <thead>\n",
       "    <tr style=\"text-align: right;\">\n",
       "      <th></th>\n",
       "      <th>user_id</th>\n",
       "      <th>gb_used</th>\n",
       "      <th>total_duration</th>\n",
       "      <th>total_messages</th>\n",
       "      <th>total_revenue</th>\n",
       "    </tr>\n",
       "  </thead>\n",
       "  <tbody>\n",
       "    <tr>\n",
       "      <th>0</th>\n",
       "      <td>1000</td>\n",
       "      <td>2.0</td>\n",
       "      <td>124.0</td>\n",
       "      <td>11.0</td>\n",
       "      <td>70.0</td>\n",
       "    </tr>\n",
       "    <tr>\n",
       "      <th>1</th>\n",
       "      <td>1006</td>\n",
       "      <td>17.5</td>\n",
       "      <td>34.5</td>\n",
       "      <td>77.0</td>\n",
       "      <td>77.0</td>\n",
       "    </tr>\n",
       "    <tr>\n",
       "      <th>2</th>\n",
       "      <td>1008</td>\n",
       "      <td>17.0</td>\n",
       "      <td>476.0</td>\n",
       "      <td>26.0</td>\n",
       "      <td>70.0</td>\n",
       "    </tr>\n",
       "    <tr>\n",
       "      <th>3</th>\n",
       "      <td>1011</td>\n",
       "      <td>21.0</td>\n",
       "      <td>486.0</td>\n",
       "      <td>58.0</td>\n",
       "      <td>70.0</td>\n",
       "    </tr>\n",
       "    <tr>\n",
       "      <th>4</th>\n",
       "      <td>1013</td>\n",
       "      <td>20.0</td>\n",
       "      <td>219.0</td>\n",
       "      <td>16.0</td>\n",
       "      <td>70.0</td>\n",
       "    </tr>\n",
       "  </tbody>\n",
       "</table>\n",
       "</div>"
      ],
      "text/plain": [
       "   user_id  gb_used  total_duration  total_messages  total_revenue\n",
       "0     1000      2.0           124.0            11.0           70.0\n",
       "1     1006     17.5            34.5            77.0           77.0\n",
       "2     1008     17.0           476.0            26.0           70.0\n",
       "3     1011     21.0           486.0            58.0           70.0\n",
       "4     1013     20.0           219.0            16.0           70.0"
      ]
     },
     "execution_count": 90,
     "metadata": {},
     "output_type": "execute_result"
    }
   ],
   "source": [
    "usage_ultimate.head()"
   ]
  },
  {
   "cell_type": "code",
   "execution_count": 92,
   "id": "ee959bc3",
   "metadata": {},
   "outputs": [
    {
     "data": {
      "text/html": [
       "<div>\n",
       "<style scoped>\n",
       "    .dataframe tbody tr th:only-of-type {\n",
       "        vertical-align: middle;\n",
       "    }\n",
       "\n",
       "    .dataframe tbody tr th {\n",
       "        vertical-align: top;\n",
       "    }\n",
       "\n",
       "    .dataframe thead th {\n",
       "        text-align: right;\n",
       "    }\n",
       "</style>\n",
       "<table border=\"1\" class=\"dataframe\">\n",
       "  <thead>\n",
       "    <tr style=\"text-align: right;\">\n",
       "      <th></th>\n",
       "      <th>user_id</th>\n",
       "      <th>gb_used</th>\n",
       "      <th>total_duration</th>\n",
       "      <th>total_messages</th>\n",
       "      <th>total_revenue</th>\n",
       "    </tr>\n",
       "  </thead>\n",
       "  <tbody>\n",
       "    <tr>\n",
       "      <th>0</th>\n",
       "      <td>1000</td>\n",
       "      <td>2.0</td>\n",
       "      <td>124.0</td>\n",
       "      <td>11.0</td>\n",
       "      <td>70.00</td>\n",
       "    </tr>\n",
       "    <tr>\n",
       "      <th>1</th>\n",
       "      <td>1001</td>\n",
       "      <td>19.0</td>\n",
       "      <td>393.0</td>\n",
       "      <td>44.0</td>\n",
       "      <td>60.00</td>\n",
       "    </tr>\n",
       "    <tr>\n",
       "      <th>2</th>\n",
       "      <td>1002</td>\n",
       "      <td>15.0</td>\n",
       "      <td>384.0</td>\n",
       "      <td>32.0</td>\n",
       "      <td>20.00</td>\n",
       "    </tr>\n",
       "    <tr>\n",
       "      <th>3</th>\n",
       "      <td>1003</td>\n",
       "      <td>27.0</td>\n",
       "      <td>1104.0</td>\n",
       "      <td>50.0</td>\n",
       "      <td>158.12</td>\n",
       "    </tr>\n",
       "    <tr>\n",
       "      <th>4</th>\n",
       "      <td>1004</td>\n",
       "      <td>21.0</td>\n",
       "      <td>359.5</td>\n",
       "      <td>24.5</td>\n",
       "      <td>80.00</td>\n",
       "    </tr>\n",
       "  </tbody>\n",
       "</table>\n",
       "</div>"
      ],
      "text/plain": [
       "   user_id  gb_used  total_duration  total_messages  total_revenue\n",
       "0     1000      2.0           124.0            11.0          70.00\n",
       "1     1001     19.0           393.0            44.0          60.00\n",
       "2     1002     15.0           384.0            32.0          20.00\n",
       "3     1003     27.0          1104.0            50.0         158.12\n",
       "4     1004     21.0           359.5            24.5          80.00"
      ]
     },
     "execution_count": 92,
     "metadata": {},
     "output_type": "execute_result"
    }
   ],
   "source": [
    "usage_all.head()"
   ]
  },
  {
   "cell_type": "code",
   "execution_count": 93,
   "id": "782ebb2f",
   "metadata": {},
   "outputs": [],
   "source": [
    "# add users info to the usage tables\n",
    "usage_surf = usage_surf.merge(grouped_users, how='left', on='user_id')\n",
    "usage_ultimate = usage_ultimate.merge(grouped_users, how='left', on='user_id')\n",
    "usage_all = usage_all.merge(grouped_users, how='left', on='user_id')"
   ]
  },
  {
   "cell_type": "markdown",
   "id": "a2da48bf",
   "metadata": {},
   "source": [
    "### Monthly Calls Comparison"
   ]
  },
  {
   "cell_type": "code",
   "execution_count": 99,
   "id": "a420c0f4",
   "metadata": {},
   "outputs": [
    {
     "data": {
      "image/png": "[encoded data removed]",
      "text/plain": [
       "<Figure size 720x360 with 1 Axes>"
      ]
     },
     "metadata": {
      "needs_background": "light"
     },
     "output_type": "display_data"
    }
   ],
   "source": [
    "#calls usage comparison between each plan\n",
    "usage_surf['total_duration'].hist(bins=50, figsize=(10,5), label='Surf')\n",
    "usage_ultimate['total_duration'].hist(bins=50, figsize=(10,5), label='Ultimate')\n",
    "plt.title(\"Comparison of Each Plan's Monthly Calls Duration\")\n",
    "plt.xlabel('minutes')\n",
    "plt.ylabel('frequency')\n",
    "plt.legend();"
   ]
  },
  {
   "cell_type": "markdown",
   "id": "96be3939",
   "metadata": {},
   "source": [
    "From the histogram, we can see how Surf plan users monthly calls duration compared to Ultimate plan users. Surf plan users graph peaks at around 300 minutes while Ultimate users graph peaks at 500 minutes."
   ]
  },
  {
   "cell_type": "code",
   "execution_count": 100,
   "id": "3ea1636b",
   "metadata": {
    "scrolled": false
   },
   "outputs": [
    {
     "data": {
      "image/png": "[encoded data removed]",
      "text/plain": [
       "<Figure size 576x432 with 1 Axes>"
      ]
     },
     "metadata": {
      "needs_background": "light"
     },
     "output_type": "display_data"
    }
   ],
   "source": [
    "data_a = usage_surf['total_duration']\n",
    "data_b = usage_ultimate['total_duration']\n",
    "\n",
    "ticks = ['Surf', 'Ultimate']\n",
    "\n",
    "def set_box_color(bp, color):\n",
    "    plt.setp(bp['boxes'], color=color)\n",
    "    plt.setp(bp['whiskers'], color=color)\n",
    "    plt.setp(bp['caps'], color=color)\n",
    "    plt.setp(bp['medians'], color=color)\n",
    "\n",
    "plt.figure(figsize=(8,6))\n",
    "\n",
    "bpl = plt.boxplot(data_a, positions=[0], widths = 0.6)\n",
    "bpr = plt.boxplot(data_b, positions=[2], widths = 0.6)\n",
    "set_box_color(bpl, '#D7191C')\n",
    "set_box_color(bpr, '#2C7BB6')\n",
    "\n",
    "plt.plot([], c='#D7191C', label='Surf')\n",
    "plt.plot([], c='#2C7BB6', label='Ultimate')\n",
    "plt.legend()\n",
    "\n",
    "plt.title(\"Boxplot of Users' Monthly Calls Duration Based on Each Plan\")\n",
    "plt.xticks(range(0, len(ticks) * 2, 2), ticks)\n",
    "plt.xlim(-2, len(ticks)*2)\n",
    "plt.grid()\n",
    "plt.tight_layout();"
   ]
  },
  {
   "cell_type": "markdown",
   "id": "5e0704e3",
   "metadata": {},
   "source": [
    "The boxplots show that the median of the two plans are similar, near 400 minutes. Surf plan users have bigger distance from median to the top of third quartile as well as upper whisker than Ultimate plan users. The Ultimate plan users also have more outliers with the longest duration of calls in a given month is above 1200 minutes."
   ]
  },
  {
   "cell_type": "code",
   "execution_count": 56,
   "id": "90e1a4cc",
   "metadata": {},
   "outputs": [
    {
     "name": "stdout",
     "output_type": "stream",
     "text": [
      "Surf plan's average monthly calls duration is: 429 minutes\n",
      "Surf plan's median monthly calls duration is: 423 minutes\n",
      "Surf plan's standard deviation of monthly calls duration is: 211 minutes\n",
      "\n",
      "Ultimate plan's average monthly calls duration is: 423 minutes\n",
      "Ultimate plan's median monthly calls duration is: 430 minutes\n",
      "Ultimate plan's standard deviation of monthly calls duration is: 216 minutes\n"
     ]
    }
   ],
   "source": [
    "print(\"Surf plan's average monthly calls duration is: {:.0f} minutes\".format(usage_surf['total_duration'].mean()))\n",
    "print(\"Surf plan's median monthly calls duration is: {:.0f} minutes\".format(usage_surf['total_duration'].median()))\n",
    "print(\"Surf plan's standard deviation of monthly calls duration is: {:.0f} minutes\".format(usage_surf['total_duration'].std()))\n",
    "print()\n",
    "print(\"Ultimate plan's average monthly calls duration is: {:.0f} minutes\".format(usage_ultimate['total_duration'].mean()))\n",
    "print(\"Ultimate plan's median monthly calls duration is: {:.0f} minutes\".format(usage_ultimate['total_duration'].median()))\n",
    "print(\"Ultimate plan's standard deviation of monthly calls duration is: {:.0f} minutes\".format(usage_ultimate['total_duration'].std()))"
   ]
  },
  {
   "cell_type": "markdown",
   "id": "ce5adca3",
   "metadata": {},
   "source": [
    "Both plans have pretty similar mean, median (around 420-430 minutes) and standard deviation (210-220 minutes), which is a sign of the distribution that is close to normal."
   ]
  },
  {
   "cell_type": "code",
   "execution_count": 57,
   "id": "244d98c9",
   "metadata": {
    "scrolled": true
   },
   "outputs": [
    {
     "name": "stdout",
     "output_type": "stream",
     "text": [
      "10.03% of surf plan users have more than 500 excess minutes, that is 10x the call duration limit of surf plan.\n"
     ]
    }
   ],
   "source": [
    "surf_excess = monthly_calls.query('(user_id in @surf_users.values) and (excess_minutes > 500)')\n",
    "print('{:.2%} of surf plan users have more than 500 excess minutes, that is 10x the call duration limit of surf plan.'\n",
    "      .format(len(surf_excess) / len(surf_users)))"
   ]
  },
  {
   "cell_type": "markdown",
   "id": "9af730ac",
   "metadata": {},
   "source": [
    "### Monthly Text Comparison"
   ]
  },
  {
   "cell_type": "code",
   "execution_count": 102,
   "id": "44e67368",
   "metadata": {
    "scrolled": false
   },
   "outputs": [
    {
     "data": {
      "image/png": "[encoded data removed]",
      "text/plain": [
       "<Figure size 720x360 with 1 Axes>"
      ]
     },
     "metadata": {
      "needs_background": "light"
     },
     "output_type": "display_data"
    }
   ],
   "source": [
    "# text usage comparison between each plan\n",
    "usage_surf['total_messages'].hist(bins=50, figsize=(10,5), label='Surf')\n",
    "usage_ultimate['total_messages'].hist(bins=50, figsize=(10,5), label='Ultimate')\n",
    "plt.title(\"Comparison of Each Plan's Monthly Text Usage\")\n",
    "plt.xlabel('messages')\n",
    "plt.ylabel('frequency')\n",
    "plt.legend();"
   ]
  },
  {
   "cell_type": "markdown",
   "id": "181daa7c",
   "metadata": {},
   "source": [
    "By looking at the histogram, we could see the text usage behaviour between users of the two plans are quite similar, they peak very close to zero before showing quite a stable pattern with some random peaks. In the surf plan, there is a small peaks between 10-25 messages."
   ]
  },
  {
   "cell_type": "code",
   "execution_count": 98,
   "id": "dd010a5b",
   "metadata": {},
   "outputs": [
    {
     "data": {
      "image/png": "[encoded data removed]",
      "text/plain": [
       "<Figure size 576x432 with 1 Axes>"
      ]
     },
     "metadata": {
      "needs_background": "light"
     },
     "output_type": "display_data"
    }
   ],
   "source": [
    "data_a = usage_surf['total_messages']\n",
    "data_b = usage_ultimate['total_messages']\n",
    "\n",
    "ticks = ['Surf', 'Ultimate']\n",
    "\n",
    "def set_box_color(bp, color):\n",
    "    plt.setp(bp['boxes'], color=color)\n",
    "    plt.setp(bp['whiskers'], color=color)\n",
    "    plt.setp(bp['caps'], color=color)\n",
    "    plt.setp(bp['medians'], color=color)\n",
    "\n",
    "plt.figure(figsize=(8,6))\n",
    "\n",
    "bpl = plt.boxplot(data_a, positions=[0], widths = 0.6)\n",
    "bpr = plt.boxplot(data_b, positions=[2], widths = 0.6)\n",
    "set_box_color(bpl, '#D7191C')\n",
    "set_box_color(bpr, '#2C7BB6')\n",
    "\n",
    "plt.plot([], c='#D7191C', label='Surf')\n",
    "plt.plot([], c='#2C7BB6', label='Ultimate')\n",
    "plt.legend()\n",
    "\n",
    "plt.title(\"Boxplot of Users' Monthly Messages Based on Each Plan\")\n",
    "plt.xticks(range(0, len(ticks) * 2, 2), ticks)\n",
    "plt.xlim(-2, len(ticks)*2)\n",
    "plt.grid()\n",
    "plt.tight_layout();"
   ]
  },
  {
   "cell_type": "markdown",
   "id": "36b7b274",
   "metadata": {},
   "source": [
    "When we look at the boxplot, the IQR of both plans are located on similar area. For Ultimate plan users, the distance between the median and the top of the third quartile are longer, it has longer upper whisker and very rare outliers. While surf plan users have more outliers slightly above 110 up to 170 messages."
   ]
  },
  {
   "cell_type": "code",
   "execution_count": 60,
   "id": "9a2941c5",
   "metadata": {},
   "outputs": [
    {
     "name": "stdout",
     "output_type": "stream",
     "text": [
      "Surf plan's average monthly text usage is: 34 messages\n",
      "Surf plan's median monthly text usage is: 28 messages\n",
      "Surf plan's standard deviation of monthly text usage is: 33 messages\n",
      "\n",
      "Ultimate plan's average monthly text usage is: 40 messages\n",
      "Ultimate plan's median monthly text usage is: 34 messages\n",
      "Ultimate plan's standard deviation of monthly text usage is: 35 messages\n"
     ]
    }
   ],
   "source": [
    "print(\"Surf plan's average monthly text usage is: {:.0f} messages\".format(usage_surf['total_messages'].mean()))\n",
    "print(\"Surf plan's median monthly text usage is: {:.0f} messages\".format(usage_surf['total_messages'].median()))\n",
    "print(\"Surf plan's standard deviation of monthly text usage is: {:.0f} messages\".format(usage_surf['total_messages'].std()))\n",
    "print()\n",
    "print(\"Ultimate plan's average monthly text usage is: {:.0f} messages\".format(usage_ultimate['total_messages'].mean()))\n",
    "print(\"Ultimate plan's median monthly text usage is: {:.0f} messages\".format(usage_ultimate['total_messages'].median()))\n",
    "print(\"Ultimate plan's standard deviation of monthly text usage is: {:.0f} messages\".format(usage_ultimate['total_messages'].std()))"
   ]
  },
  {
   "cell_type": "markdown",
   "id": "30dc4df9",
   "metadata": {},
   "source": [
    "The standard deviation of both plans are similar at 33-35 messages, that means the data has normal distribution."
   ]
  },
  {
   "cell_type": "code",
   "execution_count": 61,
   "id": "48c009ca",
   "metadata": {
    "scrolled": true
   },
   "outputs": [
    {
     "name": "stdout",
     "output_type": "stream",
     "text": [
      "20.35% of surf plan users have more than 50 excess messages, which is 2x the surf plan messages limit.\n"
     ]
    }
   ],
   "source": [
    "surf_text_excess = monthly_text.query('(user_id in @surf_users.values) and (excess_messages > 50)')\n",
    "print('{:.2%} of surf plan users have more than 50 excess messages, which is 2x the surf plan messages limit.'.format(len(surf_text_excess) / len(surf_users)))"
   ]
  },
  {
   "cell_type": "markdown",
   "id": "800a2599",
   "metadata": {},
   "source": [
    "### Monthly Internet Comparison"
   ]
  },
  {
   "cell_type": "code",
   "execution_count": 103,
   "id": "2d0e7846",
   "metadata": {},
   "outputs": [
    {
     "data": {
      "image/png": "[encoded data removed]",
      "text/plain": [
       "<Figure size 720x360 with 1 Axes>"
      ]
     },
     "metadata": {
      "needs_background": "light"
     },
     "output_type": "display_data"
    }
   ],
   "source": [
    "# internet usage comparison between each plan\n",
    "usage_surf['gb_used'].hist(bins=10, figsize=(10,5), label='Surf')\n",
    "usage_ultimate['gb_used'].hist(bins=10, figsize=(10,5), label='Ultimate')\n",
    "plt.title(\"Comparison of Each Plan's Monthly Internet Usage\")\n",
    "plt.xlabel('gigabytes')\n",
    "plt.ylabel('frequency')\n",
    "plt.legend();"
   ]
  },
  {
   "cell_type": "markdown",
   "id": "5fe990a7",
   "metadata": {},
   "source": [
    "The histogram shows similar pattern for both plans, where they peak at around 15-18GB. After 20 GB, both shows a significant decrease in distribution."
   ]
  },
  {
   "cell_type": "code",
   "execution_count": 104,
   "id": "d9822808",
   "metadata": {},
   "outputs": [
    {
     "data": {
      "image/png": "[encoded data removed]",
      "text/plain": [
       "<Figure size 576x432 with 1 Axes>"
      ]
     },
     "metadata": {
      "needs_background": "light"
     },
     "output_type": "display_data"
    }
   ],
   "source": [
    "data_a = usage_surf['gb_used']\n",
    "data_b = usage_ultimate['gb_used']\n",
    "\n",
    "ticks = ['Surf', 'Ultimate']\n",
    "\n",
    "def set_box_color(bp, color):\n",
    "    plt.setp(bp['boxes'], color=color)\n",
    "    plt.setp(bp['whiskers'], color=color)\n",
    "    plt.setp(bp['caps'], color=color)\n",
    "    plt.setp(bp['medians'], color=color)\n",
    "\n",
    "plt.figure(figsize=(8,6))\n",
    "\n",
    "bpl = plt.boxplot(data_a, positions=[0], widths = 0.6)\n",
    "bpr = plt.boxplot(data_b, positions=[2], widths = 0.6)\n",
    "set_box_color(bpl, '#D7191C')\n",
    "set_box_color(bpr, '#2C7BB6')\n",
    "\n",
    "plt.plot([], c='#D7191C', label='Surf')\n",
    "plt.plot([], c='#2C7BB6', label='Ultimate')\n",
    "plt.legend()\n",
    "\n",
    "plt.title(\"Boxplot of Users' Monthly Internet Based on Each Plan\")\n",
    "plt.xticks(range(0, len(ticks) * 2, 2), ticks)\n",
    "plt.xlim(-2, len(ticks)*2)\n",
    "plt.grid()\n",
    "plt.tight_layout();"
   ]
  },
  {
   "cell_type": "markdown",
   "id": "7eaf1ffe",
   "metadata": {},
   "source": [
    "The boxplots also show pretty similar length of box and whiskers for both plans, Surf plan users have more outliers and the biggest outlier is above 40GB per month."
   ]
  },
  {
   "cell_type": "code",
   "execution_count": 64,
   "id": "7c6caa2d",
   "metadata": {},
   "outputs": [
    {
     "name": "stdout",
     "output_type": "stream",
     "text": [
      "Surf plan's average monthly internet usage is: 17 GB\n",
      "Surf plan's median monthly internet usage is: 17 GB\n",
      "Surf plan's standard deviation of monthly internet usage is: 6 GB\n",
      "\n",
      "Ultimate plan's average monthly internet usage is: 17 GB\n",
      "Ultimate plan's median monthly internet usage is: 16 GB\n",
      "Ultimate plan's standard deviation of monthly internet usage is: 6 GB\n"
     ]
    }
   ],
   "source": [
    "print(\"Surf plan's average monthly internet usage is: {:.0f} GB\".format(usage_surf['gb_used'].mean()))\n",
    "print(\"Surf plan's median monthly internet usage is: {:.0f} GB\".format(usage_surf['gb_used'].median()))\n",
    "print(\"Surf plan's standard deviation of monthly internet usage is: {:.0f} GB\".format(usage_surf['gb_used'].std()))\n",
    "print()\n",
    "print(\"Ultimate plan's average monthly internet usage is: {:.0f} GB\".format(usage_ultimate['gb_used'].mean()))\n",
    "print(\"Ultimate plan's median monthly internet usage is: {:.0f} GB\".format(usage_ultimate['gb_used'].median()))\n",
    "print(\"Ultimate plan's standard deviation of monthly internet usage is: {:.0f} GB\".format(usage_ultimate['gb_used'].std()))"
   ]
  },
  {
   "cell_type": "markdown",
   "id": "575d7593",
   "metadata": {},
   "source": [
    "The measures of location and dispersion are almost identical for both Surf and Ultimate plans. The mean and median are very close (around 16-17GB per month) that shows normal distribution, along with smaller standard deviation number of 6GB."
   ]
  },
  {
   "cell_type": "code",
   "execution_count": 65,
   "id": "90efcf6a",
   "metadata": {
    "scrolled": true
   },
   "outputs": [
    {
     "name": "stdout",
     "output_type": "stream",
     "text": [
      "18.88% of surf plan users have more than 15GB excess internet usage, which makes them exceed the ultimate plan limit or 2x the surf plan limit.\n"
     ]
    }
   ],
   "source": [
    "surf_internet_excess = monthly_internet.query('(user_id in @surf_users.values) and (excess_gb > 15)')\n",
    "print('{:.2%} of surf plan users have more than 15GB excess internet usage, which makes them exceed the ultimate plan limit or 2x the surf plan limit.'.format(len(surf_internet_excess) / len(surf_users)))"
   ]
  },
  {
   "cell_type": "markdown",
   "id": "b766195b",
   "metadata": {},
   "source": [
    "### Conclusion\n",
    "\n",
    "1. As expected before, the surf plan users exceeding their plan limit is very high.\n",
    "2. On all services, the surf plan users exceed at least twice the limit of surf plan. \n",
    "3. On calls usage, 10% of them exceeds 10x the surf plan limit.\n",
    "4. 30% of all surf plan users pay USD70 in excess fee, they might as well take the ultimate plan.\n",
    "5. But this may be good for Megaline to keep them in surf plan to receive more profit. To understand more about this, we will test in the hypotheses testing section.\n",
    "6. With all that was mentioned above, the users on both plans actually have a pretty similar usage behaviour. "
   ]
  },
  {
   "cell_type": "markdown",
   "id": "d649dc45",
   "metadata": {},
   "source": [
    "## Hypotheses Testing"
   ]
  },
  {
   "cell_type": "markdown",
   "id": "5419df75",
   "metadata": {},
   "source": [
    "In this section, we will test the following hypotheses:\n",
    "\n",
    "- The average profit from users of Ultimate and Surf calling plans differs;\n",
    "- The average profit from users in NY-NJ area is different from that of the users from other regions.\n",
    "\n",
    "Both tests will be two sided, and the alpha value for the hypothesis testing will be 0.05."
   ]
  },
  {
   "cell_type": "markdown",
   "id": "6dc0a9c7",
   "metadata": {},
   "source": [
    "### Difference Between Ultimate/Surf Plans Users"
   ]
  },
  {
   "cell_type": "markdown",
   "id": "fe255f6b",
   "metadata": {},
   "source": [
    "1. Null and Alternative Hypotheses\n",
    "\n",
    "H0: The means of two statistical populations are equal. In this case it means that the average profit from users of surf and ultimate plans are the same.\n",
    "\n",
    "H1: The means of two statistical populations are not equal. In our case it means that the average profit from users of surf and ultimate plans are different.\n",
    "\n",
    "2. Criteria for a decision (alpha value)\n",
    "\n",
    "In behavioral science, the level of significance is typically set at 5% and we will choose this criteria as well. When the probability of obtaining a sample mean is less than 5% if the null hypothesis were true, then we reject the value stated in the null hypothesis.\n",
    "\n",
    "3. Calculate the t-test\n",
    "\n",
    "In order to test our hypotheses that the means of two statistical populations are equal based on samples taken from them, we will apply the method scipy.stats.ttest_ind().\n",
    "\n",
    "The method takes the following parameters:\n",
    "\n",
    "array1, array2 are arrays containing the samples. We will use the monthly_profit variables we calculated earlier for both plans;\n",
    "equal_var is an optional parameter that specifies whether or not the variances of the populations should be considered equal."
   ]
  },
  {
   "cell_type": "code",
   "execution_count": 66,
   "id": "2f628c85",
   "metadata": {},
   "outputs": [
    {
     "name": "stdout",
     "output_type": "stream",
     "text": [
      "Surf Plans Description\n",
      "count    333.000000\n",
      "mean      56.636997\n",
      "std       46.676055\n",
      "min       20.000000\n",
      "25%       21.260000\n",
      "50%       42.400000\n",
      "75%       73.780000\n",
      "max      320.185000\n",
      "Name: total_revenue, dtype: float64\n",
      "\n",
      "Ultimate Plans Description\n",
      "count    157.000000\n",
      "mean      71.538217\n",
      "std        7.459837\n",
      "min       70.000000\n",
      "25%       70.000000\n",
      "50%       70.000000\n",
      "75%       70.000000\n",
      "max      126.000000\n",
      "Name: total_revenue, dtype: float64\n"
     ]
    }
   ],
   "source": [
    "print('Surf Plans Description')\n",
    "print(usage_surf['total_revenue'].describe())\n",
    "print()\n",
    "print('Ultimate Plans Description')\n",
    "print(usage_ultimate['total_revenue'].describe())"
   ]
  },
  {
   "cell_type": "markdown",
   "id": "ba2ee0ca",
   "metadata": {},
   "source": [
    "Based on the description above, the variance of these two plans look quite different, so we will use Levene's test to see if they actually have different variance."
   ]
  },
  {
   "cell_type": "code",
   "execution_count": 67,
   "id": "c9aca209",
   "metadata": {},
   "outputs": [
    {
     "data": {
      "text/plain": [
       "LeveneResult(statistic=93.78359577517197, pvalue=2.098778035715499e-20)"
      ]
     },
     "execution_count": 67,
     "metadata": {},
     "output_type": "execute_result"
    }
   ],
   "source": [
    "st.levene(usage_surf['total_revenue'], usage_ultimate['total_revenue'])"
   ]
  },
  {
   "cell_type": "markdown",
   "id": "757af3e3",
   "metadata": {},
   "source": [
    "The p-value suggests that the populations do not have equal variances. Then we will set the equal_var parameter to False."
   ]
  },
  {
   "cell_type": "code",
   "execution_count": 68,
   "id": "341bf488",
   "metadata": {},
   "outputs": [
    {
     "name": "stdout",
     "output_type": "stream",
     "text": [
      "p-value: 2.8350507625849942e-08\n",
      "We reject the null hypotheses. The Surf and Ultimate Plans Average Profit are different.\n"
     ]
    }
   ],
   "source": [
    "alpha = 0.05\n",
    "\n",
    "results = st.ttest_ind(\n",
    "    usage_surf['total_revenue'], \n",
    "    usage_ultimate['total_revenue'], \n",
    "    equal_var = False)\n",
    "\n",
    "print('p-value:',results.pvalue)\n",
    "\n",
    "if (results.pvalue < alpha):\n",
    "    print('We reject the null hypotheses. The Surf and Ultimate Plans Average Profit are different.')\n",
    "else:\n",
    "    print('We retain the null hypotheses. The Surf and Ultimate Plans Average Profit are the same.')"
   ]
  },
  {
   "cell_type": "markdown",
   "id": "f3184083",
   "metadata": {},
   "source": [
    "Now, we can run one-sided test to see if ultimate plan's average profit is higher than the surf plan."
   ]
  },
  {
   "cell_type": "code",
   "execution_count": 69,
   "id": "59704b3a",
   "metadata": {},
   "outputs": [
    {
     "name": "stdout",
     "output_type": "stream",
     "text": [
      "p-value: 1.4175253812924971e-08\n",
      "We reject the null hypotheses. The Surf and Ultimate Plans Average Profit are different.\n"
     ]
    }
   ],
   "source": [
    "alpha = 0.05\n",
    "\n",
    "results = st.ttest_ind(\n",
    "    usage_surf['total_revenue'], \n",
    "    usage_ultimate['total_revenue'], \n",
    "    equal_var = False)\n",
    "\n",
    "print('p-value:',results.pvalue / 2)\n",
    "\n",
    "if (results.pvalue / 2 < alpha):\n",
    "    print('We reject the null hypotheses. The Surf and Ultimate Plans Average Profit are different.')\n",
    "else:\n",
    "    print('We retain the null hypotheses. The Surf and Ultimate Plans Average Profit are the same.')"
   ]
  },
  {
   "cell_type": "markdown",
   "id": "d6e0c39b",
   "metadata": {},
   "source": [
    "### Conclusion\n",
    "\n",
    "Based on the tests above, we can conclude that, on average, Megaline generate more profits from its ultimate plan than the surf plan."
   ]
  },
  {
   "cell_type": "markdown",
   "id": "3f72b20b",
   "metadata": {},
   "source": [
    "## Difference between 'NY-NJ' Region with Other Regions"
   ]
  },
  {
   "cell_type": "markdown",
   "id": "bc239d38",
   "metadata": {},
   "source": [
    "1. Null and Alternative Hypotheses\n",
    "\n",
    "H0: The means of two statistical populations are equal. In this case it means that the average profit from users from 'NY-NJ' region are the same with those from other regions.\n",
    "\n",
    "H1: The means of two statistical populations are not equal. In this case it means that the average profit from users from 'NY-NJ' region are different with those from other regions.\n",
    "\n",
    "2. Criteria for a decision (alpha value)\n",
    "\n",
    "In behavioral science, the level of significance is typically set at 5% and we will choose this criteria as well. When the probability of obtaining a sample mean is less than 5% if the null hypothesis were true, then we reject the value stated in the null hypothesis.\n",
    "\n",
    "3. Calculate the t-test\n",
    "\n",
    "In order to test our hypotheses that the means of two statistical populations are equal based on samples taken from them, we will apply the method scipy.stats.ttest_ind().\n",
    "\n",
    "The method takes the following parameters:\n",
    "\n",
    "array1, array2 are arrays containing the samples. We will use the monthly_profit variables we calculated earlier for both plans;\n",
    "equal_var is an optional parameter that specifies whether or not the variances of the populations should be considered equal."
   ]
  },
  {
   "cell_type": "code",
   "execution_count": 105,
   "id": "fdf74290",
   "metadata": {},
   "outputs": [
    {
     "data": {
      "text/plain": [
       "New York-Newark-Jersey City, NY-NJ-PA MSA          79\n",
       "Los Angeles-Long Beach-Anaheim, CA MSA             29\n",
       "Dallas-Fort Worth-Arlington, TX MSA                20\n",
       "Chicago-Naperville-Elgin, IL-IN-WI MSA             19\n",
       "Philadelphia-Camden-Wilmington, PA-NJ-DE-MD MSA    17\n",
       "Name: city, dtype: int64"
      ]
     },
     "execution_count": 105,
     "metadata": {},
     "output_type": "execute_result"
    }
   ],
   "source": [
    "usage_all['city'].value_counts().head()"
   ]
  },
  {
   "cell_type": "code",
   "execution_count": 71,
   "id": "0def5f5f",
   "metadata": {},
   "outputs": [],
   "source": [
    "usage_nynj = usage_all.query('city == \"New York-Newark-Jersey City, NY-NJ-PA MSA\"')\n",
    "usage_others = usage_all.query('city != \"New York-Newark-Jersey City, NY-NJ-PA MSA\"')"
   ]
  },
  {
   "cell_type": "code",
   "execution_count": 72,
   "id": "73474674",
   "metadata": {},
   "outputs": [
    {
     "data": {
      "text/plain": [
       "count     79.000000\n",
       "mean      56.882975\n",
       "std       37.000064\n",
       "min       20.000000\n",
       "25%       25.800000\n",
       "50%       51.920000\n",
       "75%       70.000000\n",
       "max      210.290000\n",
       "Name: total_revenue, dtype: float64"
      ]
     },
     "execution_count": 72,
     "metadata": {},
     "output_type": "execute_result"
    }
   ],
   "source": [
    "usage_nynj['total_revenue'].describe()"
   ]
  },
  {
   "cell_type": "code",
   "execution_count": 73,
   "id": "f921a818",
   "metadata": {},
   "outputs": [
    {
     "data": {
      "text/plain": [
       "count    411.000000\n",
       "mean      62.281910\n",
       "std       39.723804\n",
       "min       20.000000\n",
       "25%       30.120000\n",
       "50%       70.000000\n",
       "75%       70.000000\n",
       "max      320.185000\n",
       "Name: total_revenue, dtype: float64"
      ]
     },
     "execution_count": 73,
     "metadata": {},
     "output_type": "execute_result"
    }
   ],
   "source": [
    "usage_others['total_revenue'].describe()"
   ]
  },
  {
   "cell_type": "markdown",
   "id": "3c35cd69",
   "metadata": {},
   "source": [
    "By looking at it, the variance looks pretty similar. Again we will use the Levene's test to see if they have equal variance."
   ]
  },
  {
   "cell_type": "code",
   "execution_count": 74,
   "id": "3ffb798a",
   "metadata": {},
   "outputs": [
    {
     "data": {
      "text/plain": [
       "LeveneResult(statistic=0.08905274143763169, pvalue=0.7655118913396892)"
      ]
     },
     "execution_count": 74,
     "metadata": {},
     "output_type": "execute_result"
    }
   ],
   "source": [
    "st.levene(usage_nynj['total_revenue'], usage_others['total_revenue'])"
   ]
  },
  {
   "cell_type": "markdown",
   "id": "0d73b94a",
   "metadata": {},
   "source": [
    "The p-value suggests that the populations do not have equal variances. Then we will set the equal_var parameter to False."
   ]
  },
  {
   "cell_type": "code",
   "execution_count": 75,
   "id": "05abf214",
   "metadata": {},
   "outputs": [
    {
     "name": "stdout",
     "output_type": "stream",
     "text": [
      "p-value: 0.24303554036572328\n",
      "We retain the null hypotheses. The average profit from users in NY-NJ and other regions are the same.\n"
     ]
    }
   ],
   "source": [
    "alpha = 0.05\n",
    "\n",
    "results = st.ttest_ind(\n",
    "    usage_nynj['total_revenue'], \n",
    "    usage_others['total_revenue'], \n",
    "    equal_var = False)\n",
    "\n",
    "print('p-value:',results.pvalue)\n",
    "\n",
    "if (results.pvalue < alpha):\n",
    "    print('We reject the null hypotheses. The average profit from users in NY-NJ and other regions are different.')\n",
    "else:\n",
    "    print('We retain the null hypotheses. The average profit from users in NY-NJ and other regions are the same.')"
   ]
  },
  {
   "cell_type": "markdown",
   "id": "d47d2cba",
   "metadata": {},
   "source": [
    "### Conclusion\n",
    "\n",
    "Based on the test above, we can conclude that, on average, Megaline generate similar profits from users in NY-NJ regions and other regions."
   ]
  },
  {
   "cell_type": "markdown",
   "id": "01a1e597",
   "metadata": {},
   "source": [
    "## Overall Conclusion & Suggestions"
   ]
  },
  {
   "cell_type": "markdown",
   "id": "7301a82b",
   "metadata": {},
   "source": [
    "1. In this report, we have analysed the calling plan usage of 500 Megaline users. Through this report we managed to get a closer look on each users' behaviour in the usage of each service and monthly plan, then determine which plan is more profitable and test the hypotheses. \n",
    "2. Before going into the analysis, we have prepared the data by checking for any problems, changing the data types, categorising the data and adding relevant information into the dataset. \n",
    "3. We performed exploratory data analysis by looking into the overall users' monthly usage and revenue, as well as comparing one plan with the other.\n",
    "4. The users on both plans have similar usage regardless of the monthly plan limit. This makes the users of surf plan look like overwhelmingly exceeding the usage limit of their plan. \n",
    "5. On average, the ultimate plan still brings in more revenue and profit more than surf plan, even though surf users tend to exceed the plan limit.\n",
    "6. The average profit from users in NY-NJ region does not differ much from the users in other regions.\n",
    "7. Based on the conclusions above, we have the following suggestions to maximise the profit for Megaline:\n",
    "- Focus the marketing on Ultimate plan\n",
    "- Encourage more Surf plan users to upgrade their monthly plan\n",
    "- Create an intermediate plan with limits between Surf and Ultimate"
   ]
  }
 ],
 "metadata": {
  "ExecuteTimeLog": [
   {
    "duration": 1754,
    "start_time": "2021-09-09T15:46:13.144Z"
   },
   {
    "duration": 2257,
    "start_time": "2021-09-09T15:46:14.901Z"
   },
   {
    "duration": 6,
    "start_time": "2021-09-09T15:46:17.161Z"
   },
   {
    "duration": 264,
    "start_time": "2021-09-09T15:46:17.170Z"
   },
   {
    "duration": 726,
    "start_time": "2021-09-09T15:46:17.438Z"
   },
   {
    "duration": -597,
    "start_time": "2021-09-09T15:46:18.766Z"
   },
   {
    "duration": -600,
    "start_time": "2021-09-09T15:46:18.770Z"
   },
   {
    "duration": -603,
    "start_time": "2021-09-09T15:46:18.774Z"
   },
   {
    "duration": -605,
    "start_time": "2021-09-09T15:46:18.777Z"
   },
   {
    "duration": -609,
    "start_time": "2021-09-09T15:46:18.783Z"
   },
   {
    "duration": -610,
    "start_time": "2021-09-09T15:46:18.786Z"
   },
   {
    "duration": -648,
    "start_time": "2021-09-09T15:46:18.825Z"
   },
   {
    "duration": -658,
    "start_time": "2021-09-09T15:46:18.837Z"
   },
   {
    "duration": -661,
    "start_time": "2021-09-09T15:46:18.841Z"
   },
   {
    "duration": -662,
    "start_time": "2021-09-09T15:46:18.844Z"
   },
   {
    "duration": -664,
    "start_time": "2021-09-09T15:46:18.848Z"
   },
   {
    "duration": -667,
    "start_time": "2021-09-09T15:46:18.852Z"
   },
   {
    "duration": -668,
    "start_time": "2021-09-09T15:46:18.855Z"
   },
   {
    "duration": -669,
    "start_time": "2021-09-09T15:46:18.858Z"
   },
   {
    "duration": -671,
    "start_time": "2021-09-09T15:46:18.861Z"
   },
   {
    "duration": -674,
    "start_time": "2021-09-09T15:46:18.866Z"
   },
   {
    "duration": -677,
    "start_time": "2021-09-09T15:46:18.870Z"
   },
   {
    "duration": -678,
    "start_time": "2021-09-09T15:46:18.873Z"
   },
   {
    "duration": -681,
    "start_time": "2021-09-09T15:46:18.877Z"
   },
   {
    "duration": -682,
    "start_time": "2021-09-09T15:46:18.880Z"
   },
   {
    "duration": -684,
    "start_time": "2021-09-09T15:46:18.884Z"
   },
   {
    "duration": -686,
    "start_time": "2021-09-09T15:46:18.887Z"
   },
   {
    "duration": -687,
    "start_time": "2021-09-09T15:46:18.890Z"
   },
   {
    "duration": -689,
    "start_time": "2021-09-09T15:46:18.893Z"
   },
   {
    "duration": -695,
    "start_time": "2021-09-09T15:46:18.901Z"
   },
   {
    "duration": -696,
    "start_time": "2021-09-09T15:46:18.904Z"
   },
   {
    "duration": -698,
    "start_time": "2021-09-09T15:46:18.907Z"
   },
   {
    "duration": -699,
    "start_time": "2021-09-09T15:46:18.910Z"
   },
   {
    "duration": -700,
    "start_time": "2021-09-09T15:46:18.913Z"
   },
   {
    "duration": -701,
    "start_time": "2021-09-09T15:46:18.917Z"
   },
   {
    "duration": -703,
    "start_time": "2021-09-09T15:46:18.920Z"
   },
   {
    "duration": -703,
    "start_time": "2021-09-09T15:46:18.923Z"
   },
   {
    "duration": -743,
    "start_time": "2021-09-09T15:46:18.965Z"
   },
   {
    "duration": -750,
    "start_time": "2021-09-09T15:46:18.974Z"
   },
   {
    "duration": -753,
    "start_time": "2021-09-09T15:46:18.978Z"
   },
   {
    "duration": -755,
    "start_time": "2021-09-09T15:46:18.983Z"
   },
   {
    "duration": -756,
    "start_time": "2021-09-09T15:46:18.986Z"
   },
   {
    "duration": -757,
    "start_time": "2021-09-09T15:46:18.989Z"
   },
   {
    "duration": -759,
    "start_time": "2021-09-09T15:46:18.992Z"
   },
   {
    "duration": -759,
    "start_time": "2021-09-09T15:46:18.994Z"
   },
   {
    "duration": -762,
    "start_time": "2021-09-09T15:46:18.998Z"
   },
   {
    "duration": -765,
    "start_time": "2021-09-09T15:46:19.002Z"
   },
   {
    "duration": -766,
    "start_time": "2021-09-09T15:46:19.005Z"
   },
   {
    "duration": -768,
    "start_time": "2021-09-09T15:46:19.008Z"
   },
   {
    "duration": -770,
    "start_time": "2021-09-09T15:46:19.011Z"
   },
   {
    "duration": -771,
    "start_time": "2021-09-09T15:46:19.013Z"
   },
   {
    "duration": -774,
    "start_time": "2021-09-09T15:46:19.018Z"
   },
   {
    "duration": -776,
    "start_time": "2021-09-09T15:46:19.021Z"
   },
   {
    "duration": -778,
    "start_time": "2021-09-09T15:46:19.024Z"
   },
   {
    "duration": -779,
    "start_time": "2021-09-09T15:46:19.027Z"
   },
   {
    "duration": -786,
    "start_time": "2021-09-09T15:46:19.035Z"
   },
   {
    "duration": -786,
    "start_time": "2021-09-09T15:46:19.037Z"
   },
   {
    "duration": -788,
    "start_time": "2021-09-09T15:46:19.040Z"
   },
   {
    "duration": -788,
    "start_time": "2021-09-09T15:46:19.043Z"
   },
   {
    "duration": -789,
    "start_time": "2021-09-09T15:46:19.046Z"
   },
   {
    "duration": -791,
    "start_time": "2021-09-09T15:46:19.049Z"
   },
   {
    "duration": -797,
    "start_time": "2021-09-09T15:46:19.057Z"
   },
   {
    "duration": -806,
    "start_time": "2021-09-09T15:46:19.068Z"
   },
   {
    "duration": -811,
    "start_time": "2021-09-09T15:46:19.075Z"
   },
   {
    "duration": 1372,
    "start_time": "2021-09-09T19:15:50.201Z"
   },
   {
    "duration": 672,
    "start_time": "2021-09-09T19:15:51.576Z"
   },
   {
    "duration": 6,
    "start_time": "2021-09-09T19:15:52.251Z"
   },
   {
    "duration": 142,
    "start_time": "2021-09-09T19:15:52.260Z"
   },
   {
    "duration": 710,
    "start_time": "2021-09-09T19:15:52.404Z"
   },
   {
    "duration": -156,
    "start_time": "2021-09-09T19:15:53.275Z"
   },
   {
    "duration": -166,
    "start_time": "2021-09-09T19:15:53.286Z"
   },
   {
    "duration": -171,
    "start_time": "2021-09-09T19:15:53.293Z"
   },
   {
    "duration": -178,
    "start_time": "2021-09-09T19:15:53.301Z"
   },
   {
    "duration": -185,
    "start_time": "2021-09-09T19:15:53.309Z"
   },
   {
    "duration": -190,
    "start_time": "2021-09-09T19:15:53.316Z"
   },
   {
    "duration": -197,
    "start_time": "2021-09-09T19:15:53.324Z"
   },
   {
    "duration": -204,
    "start_time": "2021-09-09T19:15:53.332Z"
   },
   {
    "duration": -210,
    "start_time": "2021-09-09T19:15:53.340Z"
   },
   {
    "duration": -217,
    "start_time": "2021-09-09T19:15:53.348Z"
   },
   {
    "duration": -224,
    "start_time": "2021-09-09T19:15:53.357Z"
   },
   {
    "duration": -232,
    "start_time": "2021-09-09T19:15:53.366Z"
   },
   {
    "duration": -259,
    "start_time": "2021-09-09T19:15:53.394Z"
   },
   {
    "duration": -266,
    "start_time": "2021-09-09T19:15:53.403Z"
   },
   {
    "duration": -275,
    "start_time": "2021-09-09T19:15:53.413Z"
   },
   {
    "duration": -282,
    "start_time": "2021-09-09T19:15:53.421Z"
   },
   {
    "duration": -288,
    "start_time": "2021-09-09T19:15:53.429Z"
   },
   {
    "duration": -296,
    "start_time": "2021-09-09T19:15:53.438Z"
   },
   {
    "duration": -304,
    "start_time": "2021-09-09T19:15:53.447Z"
   },
   {
    "duration": -310,
    "start_time": "2021-09-09T19:15:53.455Z"
   },
   {
    "duration": -319,
    "start_time": "2021-09-09T19:15:53.465Z"
   },
   {
    "duration": -325,
    "start_time": "2021-09-09T19:15:53.472Z"
   },
   {
    "duration": -331,
    "start_time": "2021-09-09T19:15:53.480Z"
   },
   {
    "duration": -338,
    "start_time": "2021-09-09T19:15:53.488Z"
   },
   {
    "duration": -359,
    "start_time": "2021-09-09T19:15:53.511Z"
   },
   {
    "duration": -367,
    "start_time": "2021-09-09T19:15:53.520Z"
   },
   {
    "duration": -372,
    "start_time": "2021-09-09T19:15:53.527Z"
   },
   {
    "duration": -379,
    "start_time": "2021-09-09T19:15:53.535Z"
   },
   {
    "duration": -385,
    "start_time": "2021-09-09T19:15:53.542Z"
   },
   {
    "duration": -392,
    "start_time": "2021-09-09T19:15:53.550Z"
   },
   {
    "duration": -341,
    "start_time": "2021-09-09T19:15:53.557Z"
   },
   {
    "duration": -346,
    "start_time": "2021-09-09T19:15:53.563Z"
   },
   {
    "duration": -352,
    "start_time": "2021-09-09T19:15:53.571Z"
   },
   {
    "duration": -453,
    "start_time": "2021-09-09T19:15:53.673Z"
   },
   {
    "duration": -482,
    "start_time": "2021-09-09T19:15:53.704Z"
   },
   {
    "duration": -486,
    "start_time": "2021-09-09T19:15:53.710Z"
   },
   {
    "duration": -491,
    "start_time": "2021-09-09T19:15:53.717Z"
   },
   {
    "duration": -496,
    "start_time": "2021-09-09T19:15:53.724Z"
   },
   {
    "duration": -500,
    "start_time": "2021-09-09T19:15:53.730Z"
   },
   {
    "duration": -505,
    "start_time": "2021-09-09T19:15:53.736Z"
   },
   {
    "duration": -509,
    "start_time": "2021-09-09T19:15:53.742Z"
   },
   {
    "duration": -514,
    "start_time": "2021-09-09T19:15:53.748Z"
   },
   {
    "duration": -519,
    "start_time": "2021-09-09T19:15:53.754Z"
   },
   {
    "duration": -523,
    "start_time": "2021-09-09T19:15:53.760Z"
   },
   {
    "duration": -528,
    "start_time": "2021-09-09T19:15:53.766Z"
   },
   {
    "duration": -532,
    "start_time": "2021-09-09T19:15:53.771Z"
   },
   {
    "duration": -542,
    "start_time": "2021-09-09T19:15:53.783Z"
   },
   {
    "duration": -547,
    "start_time": "2021-09-09T19:15:53.789Z"
   },
   {
    "duration": -550,
    "start_time": "2021-09-09T19:15:53.793Z"
   },
   {
    "duration": -554,
    "start_time": "2021-09-09T19:15:53.798Z"
   },
   {
    "duration": -572,
    "start_time": "2021-09-09T19:15:53.817Z"
   },
   {
    "duration": -574,
    "start_time": "2021-09-09T19:15:53.821Z"
   },
   {
    "duration": -578,
    "start_time": "2021-09-09T19:15:53.826Z"
   },
   {
    "duration": -582,
    "start_time": "2021-09-09T19:15:53.831Z"
   },
   {
    "duration": -585,
    "start_time": "2021-09-09T19:15:53.835Z"
   },
   {
    "duration": -588,
    "start_time": "2021-09-09T19:15:53.840Z"
   },
   {
    "duration": -593,
    "start_time": "2021-09-09T19:15:53.846Z"
   },
   {
    "duration": -597,
    "start_time": "2021-09-09T19:15:53.851Z"
   },
   {
    "duration": -540,
    "start_time": "2021-09-09T19:15:53.855Z"
   },
   {
    "duration": 1363,
    "start_time": "2021-09-09T19:16:45.402Z"
   },
   {
    "duration": 573,
    "start_time": "2021-09-09T19:16:46.767Z"
   },
   {
    "duration": 6,
    "start_time": "2021-09-09T19:16:47.344Z"
   },
   {
    "duration": 138,
    "start_time": "2021-09-09T19:16:47.353Z"
   },
   {
    "duration": 429,
    "start_time": "2021-09-09T19:16:47.494Z"
   },
   {
    "duration": -174,
    "start_time": "2021-09-09T19:16:48.101Z"
   },
   {
    "duration": -202,
    "start_time": "2021-09-09T19:16:48.131Z"
   },
   {
    "duration": -213,
    "start_time": "2021-09-09T19:16:48.143Z"
   },
   {
    "duration": -223,
    "start_time": "2021-09-09T19:16:48.155Z"
   },
   {
    "duration": -228,
    "start_time": "2021-09-09T19:16:48.161Z"
   },
   {
    "duration": -232,
    "start_time": "2021-09-09T19:16:48.167Z"
   },
   {
    "duration": -236,
    "start_time": "2021-09-09T19:16:48.172Z"
   },
   {
    "duration": -240,
    "start_time": "2021-09-09T19:16:48.177Z"
   },
   {
    "duration": -247,
    "start_time": "2021-09-09T19:16:48.185Z"
   },
   {
    "duration": -251,
    "start_time": "2021-09-09T19:16:48.191Z"
   },
   {
    "duration": -257,
    "start_time": "2021-09-09T19:16:48.198Z"
   },
   {
    "duration": -262,
    "start_time": "2021-09-09T19:16:48.204Z"
   },
   {
    "duration": -265,
    "start_time": "2021-09-09T19:16:48.209Z"
   },
   {
    "duration": -274,
    "start_time": "2021-09-09T19:16:48.219Z"
   },
   {
    "duration": -280,
    "start_time": "2021-09-09T19:16:48.226Z"
   },
   {
    "duration": -294,
    "start_time": "2021-09-09T19:16:48.242Z"
   },
   {
    "duration": -301,
    "start_time": "2021-09-09T19:16:48.250Z"
   },
   {
    "duration": -305,
    "start_time": "2021-09-09T19:16:48.255Z"
   },
   {
    "duration": -308,
    "start_time": "2021-09-09T19:16:48.260Z"
   },
   {
    "duration": -313,
    "start_time": "2021-09-09T19:16:48.266Z"
   },
   {
    "duration": -317,
    "start_time": "2021-09-09T19:16:48.271Z"
   },
   {
    "duration": -320,
    "start_time": "2021-09-09T19:16:48.276Z"
   },
   {
    "duration": -324,
    "start_time": "2021-09-09T19:16:48.281Z"
   },
   {
    "duration": -328,
    "start_time": "2021-09-09T19:16:48.286Z"
   },
   {
    "duration": -331,
    "start_time": "2021-09-09T19:16:48.291Z"
   },
   {
    "duration": -335,
    "start_time": "2021-09-09T19:16:48.296Z"
   },
   {
    "duration": -339,
    "start_time": "2021-09-09T19:16:48.301Z"
   },
   {
    "duration": -342,
    "start_time": "2021-09-09T19:16:48.306Z"
   },
   {
    "duration": -345,
    "start_time": "2021-09-09T19:16:48.310Z"
   },
   {
    "duration": -349,
    "start_time": "2021-09-09T19:16:48.315Z"
   },
   {
    "duration": -303,
    "start_time": "2021-09-09T19:16:48.319Z"
   },
   {
    "duration": -305,
    "start_time": "2021-09-09T19:16:48.323Z"
   },
   {
    "duration": -308,
    "start_time": "2021-09-09T19:16:48.327Z"
   },
   {
    "duration": -312,
    "start_time": "2021-09-09T19:16:48.332Z"
   },
   {
    "duration": -314,
    "start_time": "2021-09-09T19:16:48.336Z"
   },
   {
    "duration": -329,
    "start_time": "2021-09-09T19:16:48.352Z"
   },
   {
    "duration": -332,
    "start_time": "2021-09-09T19:16:48.357Z"
   },
   {
    "duration": -334,
    "start_time": "2021-09-09T19:16:48.360Z"
   },
   {
    "duration": -388,
    "start_time": "2021-09-09T19:16:48.415Z"
   },
   {
    "duration": -391,
    "start_time": "2021-09-09T19:16:48.420Z"
   },
   {
    "duration": -393,
    "start_time": "2021-09-09T19:16:48.423Z"
   },
   {
    "duration": -395,
    "start_time": "2021-09-09T19:16:48.427Z"
   },
   {
    "duration": -398,
    "start_time": "2021-09-09T19:16:48.431Z"
   },
   {
    "duration": -400,
    "start_time": "2021-09-09T19:16:48.435Z"
   },
   {
    "duration": -402,
    "start_time": "2021-09-09T19:16:48.438Z"
   },
   {
    "duration": -405,
    "start_time": "2021-09-09T19:16:48.442Z"
   },
   {
    "duration": -406,
    "start_time": "2021-09-09T19:16:48.445Z"
   },
   {
    "duration": -409,
    "start_time": "2021-09-09T19:16:48.449Z"
   },
   {
    "duration": -420,
    "start_time": "2021-09-09T19:16:48.461Z"
   },
   {
    "duration": -425,
    "start_time": "2021-09-09T19:16:48.467Z"
   },
   {
    "duration": -429,
    "start_time": "2021-09-09T19:16:48.472Z"
   },
   {
    "duration": -432,
    "start_time": "2021-09-09T19:16:48.477Z"
   },
   {
    "duration": -442,
    "start_time": "2021-09-09T19:16:48.488Z"
   },
   {
    "duration": -445,
    "start_time": "2021-09-09T19:16:48.493Z"
   },
   {
    "duration": -449,
    "start_time": "2021-09-09T19:16:48.498Z"
   },
   {
    "duration": -452,
    "start_time": "2021-09-09T19:16:48.503Z"
   },
   {
    "duration": -459,
    "start_time": "2021-09-09T19:16:48.511Z"
   },
   {
    "duration": -392,
    "start_time": "2021-09-09T19:16:48.516Z"
   },
   {
    "duration": -395,
    "start_time": "2021-09-09T19:16:48.521Z"
   },
   {
    "duration": 415,
    "start_time": "2021-09-10T09:32:47.775Z"
   },
   {
    "duration": 1350,
    "start_time": "2021-09-10T09:32:55.791Z"
   },
   {
    "duration": 563,
    "start_time": "2021-09-10T09:32:58.983Z"
   },
   {
    "duration": 4,
    "start_time": "2021-09-10T09:33:02.887Z"
   },
   {
    "duration": 108,
    "start_time": "2021-09-10T09:33:06.211Z"
   },
   {
    "duration": 422,
    "start_time": "2021-09-10T09:33:10.048Z"
   },
   {
    "duration": 14,
    "start_time": "2021-09-10T09:33:49.024Z"
   },
   {
    "duration": 20,
    "start_time": "2021-09-10T09:34:23.824Z"
   },
   {
    "duration": 7,
    "start_time": "2021-09-10T09:35:27.889Z"
   },
   {
    "duration": 12,
    "start_time": "2021-09-10T09:35:45.688Z"
   },
   {
    "duration": 1002,
    "start_time": "2021-09-10T09:35:49.617Z"
   },
   {
    "duration": 10,
    "start_time": "2021-09-10T09:36:15.295Z"
   },
   {
    "duration": 26,
    "start_time": "2021-09-10T09:36:20.527Z"
   },
   {
    "duration": 32,
    "start_time": "2021-09-10T09:36:23.279Z"
   },
   {
    "duration": 17,
    "start_time": "2021-09-10T09:36:24.847Z"
   },
   {
    "duration": 91,
    "start_time": "2021-09-10T09:36:34.167Z"
   },
   {
    "duration": 1841,
    "start_time": "2021-09-10T09:36:35.264Z"
   },
   {
    "duration": 7,
    "start_time": "2021-09-10T09:36:54.552Z"
   },
   {
    "duration": 16,
    "start_time": "2021-09-10T09:36:59.237Z"
   },
   {
    "duration": 24,
    "start_time": "2021-09-10T09:37:01.411Z"
   },
   {
    "duration": 51,
    "start_time": "2021-09-10T09:37:06.105Z"
   },
   {
    "duration": 14,
    "start_time": "2021-09-10T09:37:07.296Z"
   },
   {
    "duration": 18,
    "start_time": "2021-09-10T09:37:08.584Z"
   },
   {
    "duration": 27,
    "start_time": "2021-09-10T09:37:12.927Z"
   },
   {
    "duration": 1036,
    "start_time": "2021-09-10T09:37:13.879Z"
   },
   {
    "duration": 7,
    "start_time": "2021-09-10T09:37:51.823Z"
   },
   {
    "duration": 9,
    "start_time": "2021-09-10T09:37:55.208Z"
   },
   {
    "duration": 13,
    "start_time": "2021-09-10T09:37:58.328Z"
   },
   {
    "duration": 39,
    "start_time": "2021-09-10T09:38:04.744Z"
   },
   {
    "duration": 27,
    "start_time": "2021-09-10T09:38:10.688Z"
   },
   {
    "duration": 15,
    "start_time": "2021-09-10T09:38:12.176Z"
   },
   {
    "duration": 244,
    "start_time": "2021-09-10T09:38:15.168Z"
   },
   {
    "duration": 373,
    "start_time": "2021-09-10T09:38:16.728Z"
   },
   {
    "duration": 8,
    "start_time": "2021-09-10T09:38:23.889Z"
   },
   {
    "duration": 21,
    "start_time": "2021-09-10T09:38:25.127Z"
   },
   {
    "duration": 8,
    "start_time": "2021-09-10T09:38:26.093Z"
   },
   {
    "duration": 236,
    "start_time": "2021-09-10T09:38:27.368Z"
   },
   {
    "duration": 10,
    "start_time": "2021-09-10T09:38:30.776Z"
   },
   {
    "duration": 56,
    "start_time": "2021-09-10T09:38:31.896Z"
   },
   {
    "duration": 10,
    "start_time": "2021-09-10T09:38:33.055Z"
   },
   {
    "duration": 240,
    "start_time": "2021-09-10T09:38:35.567Z"
   },
   {
    "duration": 9,
    "start_time": "2021-09-10T09:38:40.527Z"
   },
   {
    "duration": 9,
    "start_time": "2021-09-10T09:38:41.967Z"
   },
   {
    "duration": 106,
    "start_time": "2021-09-10T09:38:44.448Z"
   },
   {
    "duration": 116,
    "start_time": "2021-09-10T09:38:45.335Z"
   },
   {
    "duration": 57,
    "start_time": "2021-09-10T09:38:46.808Z"
   },
   {
    "duration": 67,
    "start_time": "2021-09-10T09:38:48.776Z"
   },
   {
    "duration": 104,
    "start_time": "2021-09-10T09:38:50.247Z"
   },
   {
    "duration": 103,
    "start_time": "2021-09-10T09:38:51.575Z"
   },
   {
    "duration": 30,
    "start_time": "2021-09-10T09:38:54.670Z"
   },
   {
    "duration": 8,
    "start_time": "2021-09-10T09:38:58.569Z"
   },
   {
    "duration": 128,
    "start_time": "2021-09-10T09:39:02.963Z"
   },
   {
    "duration": 10,
    "start_time": "2021-09-10T09:39:05.392Z"
   },
   {
    "duration": 255,
    "start_time": "2021-09-10T09:39:06.705Z"
   },
   {
    "duration": 10,
    "start_time": "2021-09-10T09:39:09.224Z"
   },
   {
    "duration": 27,
    "start_time": "2021-09-10T09:39:10.903Z"
   },
   {
    "duration": 14,
    "start_time": "2021-09-10T09:39:12.456Z"
   },
   {
    "duration": 533,
    "start_time": "2021-09-10T09:39:13.693Z"
   },
   {
    "duration": 8,
    "start_time": "2021-09-10T09:39:15.823Z"
   },
   {
    "duration": 613,
    "start_time": "2021-09-10T09:39:17.808Z"
   },
   {
    "duration": 7,
    "start_time": "2021-09-10T09:39:22.151Z"
   },
   {
    "duration": 608,
    "start_time": "2021-09-10T09:39:27.296Z"
   },
   {
    "duration": 7,
    "start_time": "2021-09-10T09:39:29.625Z"
   },
   {
    "duration": 14,
    "start_time": "2021-09-10T09:40:35.583Z"
   },
   {
    "duration": 7,
    "start_time": "2021-09-10T09:40:54.008Z"
   },
   {
    "duration": 6,
    "start_time": "2021-09-10T09:41:00.826Z"
   },
   {
    "duration": 6,
    "start_time": "2021-09-10T09:41:04.608Z"
   },
   {
    "duration": 7,
    "start_time": "2021-09-10T09:41:11.567Z"
   },
   {
    "duration": 7,
    "start_time": "2021-09-10T09:41:12.804Z"
   },
   {
    "duration": 9,
    "start_time": "2021-09-10T09:41:14.407Z"
   },
   {
    "duration": 8,
    "start_time": "2021-09-10T09:41:16.696Z"
   },
   {
    "duration": 6,
    "start_time": "2021-09-10T09:41:26.048Z"
   },
   {
    "duration": 5,
    "start_time": "2021-09-10T09:41:29.470Z"
   },
   {
    "duration": 1450,
    "start_time": "2021-09-11T06:51:09.567Z"
   },
   {
    "duration": 636,
    "start_time": "2021-09-11T06:51:11.020Z"
   },
   {
    "duration": 7,
    "start_time": "2021-09-11T06:51:11.660Z"
   },
   {
    "duration": 175,
    "start_time": "2021-09-11T06:51:11.670Z"
   },
   {
    "duration": 18,
    "start_time": "2021-09-11T06:51:11.847Z"
   },
   {
    "duration": 34,
    "start_time": "2021-09-11T06:51:11.867Z"
   },
   {
    "duration": 58,
    "start_time": "2021-09-11T06:51:11.904Z"
   },
   {
    "duration": 29,
    "start_time": "2021-09-11T06:51:11.966Z"
   },
   {
    "duration": 164,
    "start_time": "2021-09-11T06:51:11.998Z"
   },
   {
    "duration": 9,
    "start_time": "2021-09-11T06:51:12.165Z"
   },
   {
    "duration": 46,
    "start_time": "2021-09-11T06:51:12.176Z"
   },
   {
    "duration": 30,
    "start_time": "2021-09-11T06:51:12.224Z"
   },
   {
    "duration": 66,
    "start_time": "2021-09-11T06:51:12.261Z"
   },
   {
    "duration": 35,
    "start_time": "2021-09-11T06:51:12.330Z"
   },
   {
    "duration": 26,
    "start_time": "2021-09-11T06:51:12.367Z"
   },
   {
    "duration": 70,
    "start_time": "2021-09-11T06:51:12.396Z"
   },
   {
    "duration": 11,
    "start_time": "2021-09-11T06:51:12.469Z"
   },
   {
    "duration": 27,
    "start_time": "2021-09-11T06:51:12.483Z"
   },
   {
    "duration": 49,
    "start_time": "2021-09-11T06:51:12.513Z"
   },
   {
    "duration": 59,
    "start_time": "2021-09-11T06:51:12.565Z"
   },
   {
    "duration": 62,
    "start_time": "2021-09-11T06:51:12.626Z"
   },
   {
    "duration": 24,
    "start_time": "2021-09-11T06:51:12.691Z"
   },
   {
    "duration": 408,
    "start_time": "2021-09-11T06:51:12.722Z"
   },
   {
    "duration": 649,
    "start_time": "2021-09-11T06:51:13.133Z"
   },
   {
    "duration": 13,
    "start_time": "2021-09-11T06:51:13.785Z"
   },
   {
    "duration": 33,
    "start_time": "2021-09-11T06:51:13.801Z"
   },
   {
    "duration": 12,
    "start_time": "2021-09-11T06:51:13.861Z"
   },
   {
    "duration": 419,
    "start_time": "2021-09-11T06:51:13.876Z"
   },
   {
    "duration": 13,
    "start_time": "2021-09-11T06:51:14.298Z"
   },
   {
    "duration": 117,
    "start_time": "2021-09-11T06:51:14.314Z"
   },
   {
    "duration": 12,
    "start_time": "2021-09-11T06:51:14.434Z"
   },
   {
    "duration": 419,
    "start_time": "2021-09-11T06:51:14.461Z"
   },
   {
    "duration": 13,
    "start_time": "2021-09-11T06:51:14.882Z"
   },
   {
    "duration": 13,
    "start_time": "2021-09-11T06:51:14.899Z"
   },
   {
    "duration": 192,
    "start_time": "2021-09-11T06:51:14.914Z"
   },
   {
    "duration": 188,
    "start_time": "2021-09-11T06:51:15.109Z"
   },
   {
    "duration": 109,
    "start_time": "2021-09-11T06:51:15.300Z"
   },
   {
    "duration": 113,
    "start_time": "2021-09-11T06:51:15.412Z"
   },
   {
    "duration": 204,
    "start_time": "2021-09-11T06:51:15.527Z"
   },
   {
    "duration": 240,
    "start_time": "2021-09-11T06:51:15.733Z"
   },
   {
    "duration": 41,
    "start_time": "2021-09-11T06:51:15.976Z"
   },
   {
    "duration": 9,
    "start_time": "2021-09-11T06:51:16.019Z"
   },
   {
    "duration": 225,
    "start_time": "2021-09-11T06:51:16.031Z"
   },
   {
    "duration": 15,
    "start_time": "2021-09-11T06:51:16.262Z"
   },
   {
    "duration": 449,
    "start_time": "2021-09-11T06:51:16.279Z"
   },
   {
    "duration": 32,
    "start_time": "2021-09-11T06:51:16.731Z"
   },
   {
    "duration": 37,
    "start_time": "2021-09-11T06:51:16.766Z"
   },
   {
    "duration": 16,
    "start_time": "2021-09-11T06:51:16.805Z"
   },
   {
    "duration": 904,
    "start_time": "2021-09-11T06:51:16.824Z"
   },
   {
    "duration": 9,
    "start_time": "2021-09-11T06:51:17.731Z"
   },
   {
    "duration": 966,
    "start_time": "2021-09-11T06:51:17.743Z"
   },
   {
    "duration": 10,
    "start_time": "2021-09-11T06:51:18.711Z"
   },
   {
    "duration": 862,
    "start_time": "2021-09-11T06:51:18.724Z"
   },
   {
    "duration": 10,
    "start_time": "2021-09-11T06:51:19.588Z"
   },
   {
    "duration": 17,
    "start_time": "2021-09-11T06:51:19.600Z"
   },
   {
    "duration": 10,
    "start_time": "2021-09-11T06:51:19.620Z"
   },
   {
    "duration": 8,
    "start_time": "2021-09-11T06:51:19.662Z"
   },
   {
    "duration": 7,
    "start_time": "2021-09-11T06:51:19.672Z"
   },
   {
    "duration": 25,
    "start_time": "2021-09-11T06:51:19.681Z"
   },
   {
    "duration": 12,
    "start_time": "2021-09-11T06:51:19.708Z"
   },
   {
    "duration": 17,
    "start_time": "2021-09-11T06:51:19.722Z"
   },
   {
    "duration": 37,
    "start_time": "2021-09-11T06:51:19.741Z"
   },
   {
    "duration": 13,
    "start_time": "2021-09-11T06:51:19.780Z"
   },
   {
    "duration": 8,
    "start_time": "2021-09-11T06:51:19.796Z"
   },
   {
    "duration": 403,
    "start_time": "2021-09-13T05:00:32.882Z"
   },
   {
    "duration": 1837,
    "start_time": "2021-09-13T05:00:44.393Z"
   },
   {
    "duration": 614,
    "start_time": "2021-09-13T05:00:46.328Z"
   },
   {
    "duration": 11,
    "start_time": "2021-09-13T05:01:01.008Z"
   },
   {
    "duration": 32,
    "start_time": "2021-09-13T05:01:02.832Z"
   },
   {
    "duration": 41,
    "start_time": "2021-09-13T05:01:04.753Z"
   },
   {
    "duration": 29,
    "start_time": "2021-09-13T05:01:05.859Z"
   },
   {
    "duration": 38,
    "start_time": "2021-09-13T05:01:25.393Z"
   },
   {
    "duration": 26,
    "start_time": "2021-09-13T05:01:26.798Z"
   },
   {
    "duration": 364,
    "start_time": "2021-09-13T05:01:29.904Z"
   },
   {
    "duration": 364,
    "start_time": "2021-09-13T05:01:39.417Z"
   },
   {
    "duration": 364,
    "start_time": "2021-09-13T05:02:58.349Z"
   },
   {
    "duration": 354,
    "start_time": "2021-09-13T05:03:03.468Z"
   },
   {
    "duration": 357,
    "start_time": "2021-09-13T05:04:24.014Z"
   },
   {
    "duration": 353,
    "start_time": "2021-09-13T05:04:38.148Z"
   },
   {
    "duration": 691,
    "start_time": "2021-09-13T05:05:21.255Z"
   },
   {
    "duration": 350,
    "start_time": "2021-09-13T05:05:49.269Z"
   },
   {
    "duration": 672,
    "start_time": "2021-09-13T05:05:54.133Z"
   },
   {
    "duration": 371,
    "start_time": "2021-09-13T05:07:03.749Z"
   },
   {
    "duration": 569,
    "start_time": "2021-09-13T05:07:08.877Z"
   },
   {
    "duration": 589,
    "start_time": "2021-09-13T05:14:57.736Z"
   },
   {
    "duration": 447,
    "start_time": "2021-09-13T05:15:00.249Z"
   },
   {
    "duration": 457,
    "start_time": "2021-09-13T06:08:02.559Z"
   },
   {
    "duration": -919,
    "start_time": "2021-09-13T06:08:03.938Z"
   },
   {
    "duration": 1310,
    "start_time": "2021-09-13T06:08:25.097Z"
   },
   {
    "duration": 609,
    "start_time": "2021-09-13T06:08:28.482Z"
   },
   {
    "duration": 5,
    "start_time": "2021-09-13T06:08:32.282Z"
   },
   {
    "duration": 142,
    "start_time": "2021-09-13T06:08:34.538Z"
   },
   {
    "duration": 10,
    "start_time": "2021-09-13T06:08:40.410Z"
   },
   {
    "duration": 35,
    "start_time": "2021-09-13T06:08:47.530Z"
   },
   {
    "duration": 40,
    "start_time": "2021-09-13T06:08:48.369Z"
   },
   {
    "duration": 27,
    "start_time": "2021-09-13T06:08:52.202Z"
   },
   {
    "duration": 133,
    "start_time": "2021-09-13T06:08:57.130Z"
   },
   {
    "duration": 10,
    "start_time": "2021-09-13T06:09:00.546Z"
   },
   {
    "duration": 22,
    "start_time": "2021-09-13T06:09:06.210Z"
   },
   {
    "duration": 31,
    "start_time": "2021-09-13T06:09:08.618Z"
   },
   {
    "duration": 73,
    "start_time": "2021-09-13T06:09:12.362Z"
   },
   {
    "duration": 18,
    "start_time": "2021-09-13T06:09:13.322Z"
   },
   {
    "duration": 24,
    "start_time": "2021-09-13T06:09:14.737Z"
   },
   {
    "duration": 38,
    "start_time": "2021-09-13T06:09:22.458Z"
   },
   {
    "duration": 8,
    "start_time": "2021-09-13T06:09:24.978Z"
   },
   {
    "duration": 12,
    "start_time": "2021-09-13T06:09:33.994Z"
   },
   {
    "duration": 17,
    "start_time": "2021-09-13T06:09:37.842Z"
   },
   {
    "duration": 51,
    "start_time": "2021-09-13T06:09:41.498Z"
   },
   {
    "duration": 36,
    "start_time": "2021-09-13T06:09:48.939Z"
   },
   {
    "duration": 23,
    "start_time": "2021-09-13T06:09:49.961Z"
   },
   {
    "duration": 359,
    "start_time": "2021-09-13T06:09:54.321Z"
   },
   {
    "duration": 576,
    "start_time": "2021-09-13T06:09:56.346Z"
   },
   {
    "duration": 472,
    "start_time": "2021-09-13T06:11:03.214Z"
   },
   {
    "duration": 276,
    "start_time": "2021-09-13T06:11:19.451Z"
   },
   {
    "duration": 271,
    "start_time": "2021-09-13T06:12:23.815Z"
   },
   {
    "duration": 274,
    "start_time": "2021-09-13T06:12:30.344Z"
   },
   {
    "duration": 258,
    "start_time": "2021-09-13T06:13:42.215Z"
   },
   {
    "duration": 265,
    "start_time": "2021-09-13T09:15:14.406Z"
   },
   {
    "duration": 269,
    "start_time": "2021-09-13T09:15:25.621Z"
   },
   {
    "duration": 727,
    "start_time": "2021-09-13T09:15:33.723Z"
   },
   {
    "duration": 269,
    "start_time": "2021-09-13T09:15:43.367Z"
   },
   {
    "duration": 303,
    "start_time": "2021-09-13T09:16:00.287Z"
   },
   {
    "duration": 266,
    "start_time": "2021-09-13T09:16:04.592Z"
   },
   {
    "duration": 11,
    "start_time": "2021-09-13T09:18:53.589Z"
   },
   {
    "duration": 28,
    "start_time": "2021-09-13T09:18:54.622Z"
   },
   {
    "duration": 10,
    "start_time": "2021-09-13T09:18:56.672Z"
   },
   {
    "duration": 394,
    "start_time": "2021-09-13T09:19:01.504Z"
   },
   {
    "duration": 264,
    "start_time": "2021-09-13T09:20:11.691Z"
   },
   {
    "duration": 12,
    "start_time": "2021-09-13T09:26:13.439Z"
   },
   {
    "duration": 91,
    "start_time": "2021-09-13T09:26:14.405Z"
   },
   {
    "duration": 13,
    "start_time": "2021-09-13T09:26:15.969Z"
   },
   {
    "duration": 396,
    "start_time": "2021-09-13T09:26:17.086Z"
   },
   {
    "duration": 383,
    "start_time": "2021-09-13T09:26:24.590Z"
   },
   {
    "duration": 266,
    "start_time": "2021-09-13T09:27:43.418Z"
   },
   {
    "duration": 13,
    "start_time": "2021-09-13T09:31:52.800Z"
   },
   {
    "duration": 10,
    "start_time": "2021-09-13T09:31:55.065Z"
   },
   {
    "duration": 153,
    "start_time": "2021-09-13T09:31:56.309Z"
   },
   {
    "duration": 156,
    "start_time": "2021-09-13T09:31:57.288Z"
   },
   {
    "duration": 87,
    "start_time": "2021-09-13T09:31:58.055Z"
   },
   {
    "duration": 101,
    "start_time": "2021-09-13T09:31:59.327Z"
   },
   {
    "duration": 158,
    "start_time": "2021-09-13T09:32:00.617Z"
   },
   {
    "duration": 206,
    "start_time": "2021-09-13T09:32:01.488Z"
   },
   {
    "duration": 42,
    "start_time": "2021-09-13T09:32:14.057Z"
   },
   {
    "duration": 10,
    "start_time": "2021-09-13T09:36:36.655Z"
   },
   {
    "duration": 250,
    "start_time": "2021-09-13T09:36:37.787Z"
   },
   {
    "duration": 12,
    "start_time": "2021-09-13T09:36:40.125Z"
   },
   {
    "duration": 415,
    "start_time": "2021-09-13T09:36:41.533Z"
   },
   {
    "duration": 396,
    "start_time": "2021-09-13T09:36:50.862Z"
   },
   {
    "duration": 460,
    "start_time": "2021-09-13T09:39:17.755Z"
   },
   {
    "duration": 345,
    "start_time": "2021-09-13T09:39:27.207Z"
   },
   {
    "duration": 462,
    "start_time": "2021-09-13T09:39:35.030Z"
   },
   {
    "duration": 414,
    "start_time": "2021-09-13T09:39:44.757Z"
   },
   {
    "duration": 359,
    "start_time": "2021-09-13T09:39:50.647Z"
   },
   {
    "duration": 418,
    "start_time": "2021-09-13T09:40:02.760Z"
   },
   {
    "duration": 11,
    "start_time": "2021-09-13T09:41:30.124Z"
   },
   {
    "duration": 10,
    "start_time": "2021-09-13T09:41:37.351Z"
   },
   {
    "duration": 391,
    "start_time": "2021-09-13T09:41:56.614Z"
   },
   {
    "duration": 377,
    "start_time": "2021-09-13T10:06:23.347Z"
   },
   {
    "duration": 384,
    "start_time": "2021-09-13T10:06:36.949Z"
   },
   {
    "duration": 970,
    "start_time": "2021-09-13T10:06:49.854Z"
   },
   {
    "duration": 494,
    "start_time": "2021-09-13T10:06:58.248Z"
   },
   {
    "duration": 448,
    "start_time": "2021-09-13T10:08:20.874Z"
   },
   {
    "duration": 12,
    "start_time": "2021-09-13T10:15:04.436Z"
   },
   {
    "duration": 259,
    "start_time": "2021-09-13T10:21:50.539Z"
   },
   {
    "duration": 280,
    "start_time": "2021-09-13T10:22:15.016Z"
   },
   {
    "duration": 34,
    "start_time": "2021-09-13T10:29:23.146Z"
   },
   {
    "duration": 17,
    "start_time": "2021-09-13T10:29:24.167Z"
   },
   {
    "duration": 898,
    "start_time": "2021-09-13T10:29:25.392Z"
   },
   {
    "duration": 989,
    "start_time": "2021-09-13T10:29:31.169Z"
   },
   {
    "duration": 609,
    "start_time": "2021-09-13T10:32:33.720Z"
   },
   {
    "duration": 629,
    "start_time": "2021-09-13T10:33:50.537Z"
   },
   {
    "duration": 869,
    "start_time": "2021-09-13T10:36:12.643Z"
   },
   {
    "duration": 619,
    "start_time": "2021-09-13T10:37:41.241Z"
   },
   {
    "duration": 11,
    "start_time": "2021-09-13T10:44:34.280Z"
   },
   {
    "duration": 11,
    "start_time": "2021-09-13T10:44:42.334Z"
   },
   {
    "duration": 11,
    "start_time": "2021-09-13T10:44:53.227Z"
   },
   {
    "duration": 10,
    "start_time": "2021-09-13T10:44:58.237Z"
   },
   {
    "duration": 894,
    "start_time": "2021-09-13T10:48:07.150Z"
   },
   {
    "duration": 1085,
    "start_time": "2021-09-13T11:58:52.274Z"
   },
   {
    "duration": 720,
    "start_time": "2021-09-13T12:01:34.705Z"
   },
   {
    "duration": 11,
    "start_time": "2021-09-13T12:18:22.445Z"
   },
   {
    "duration": 10,
    "start_time": "2021-09-13T12:19:06.842Z"
   },
   {
    "duration": 393,
    "start_time": "2021-09-13T12:22:07.885Z"
   },
   {
    "duration": 408,
    "start_time": "2021-09-13T12:22:14.848Z"
   },
   {
    "duration": 862,
    "start_time": "2021-09-13T12:34:56.507Z"
   },
   {
    "duration": 842,
    "start_time": "2021-09-13T12:35:03.977Z"
   },
   {
    "duration": 469,
    "start_time": "2021-09-13T12:35:24.361Z"
   },
   {
    "duration": 639,
    "start_time": "2021-09-13T12:36:14.311Z"
   },
   {
    "duration": 11,
    "start_time": "2021-09-13T12:37:20.817Z"
   },
   {
    "duration": 10,
    "start_time": "2021-09-13T12:37:37.779Z"
   },
   {
    "duration": 10,
    "start_time": "2021-09-13T12:39:14.537Z"
   },
   {
    "duration": 1403,
    "start_time": "2021-09-14T11:18:50.824Z"
   },
   {
    "duration": 577,
    "start_time": "2021-09-14T11:18:52.229Z"
   },
   {
    "duration": 9,
    "start_time": "2021-09-14T11:18:52.809Z"
   },
   {
    "duration": 216,
    "start_time": "2021-09-14T11:18:52.822Z"
   },
   {
    "duration": 13,
    "start_time": "2021-09-14T11:18:53.041Z"
   },
   {
    "duration": 64,
    "start_time": "2021-09-14T11:18:53.057Z"
   },
   {
    "duration": 71,
    "start_time": "2021-09-14T11:18:53.124Z"
   },
   {
    "duration": 45,
    "start_time": "2021-09-14T11:18:53.201Z"
   },
   {
    "duration": 160,
    "start_time": "2021-09-14T11:18:53.251Z"
   },
   {
    "duration": 10,
    "start_time": "2021-09-14T11:18:53.414Z"
   },
   {
    "duration": 55,
    "start_time": "2021-09-14T11:18:53.427Z"
   },
   {
    "duration": 30,
    "start_time": "2021-09-14T11:18:53.484Z"
   },
   {
    "duration": 118,
    "start_time": "2021-09-14T11:18:53.518Z"
   },
   {
    "duration": 17,
    "start_time": "2021-09-14T11:18:53.638Z"
   },
   {
    "duration": 39,
    "start_time": "2021-09-14T11:18:53.657Z"
   },
   {
    "duration": 36,
    "start_time": "2021-09-14T11:18:53.699Z"
   },
   {
    "duration": 46,
    "start_time": "2021-09-14T11:18:53.737Z"
   },
   {
    "duration": 12,
    "start_time": "2021-09-14T11:18:53.785Z"
   },
   {
    "duration": 18,
    "start_time": "2021-09-14T11:18:53.799Z"
   },
   {
    "duration": 91,
    "start_time": "2021-09-14T11:18:53.819Z"
   },
   {
    "duration": 37,
    "start_time": "2021-09-14T11:18:53.912Z"
   },
   {
    "duration": 25,
    "start_time": "2021-09-14T11:18:53.983Z"
   },
   {
    "duration": 377,
    "start_time": "2021-09-14T11:18:54.013Z"
   },
   {
    "duration": 601,
    "start_time": "2021-09-14T11:18:54.395Z"
   },
   {
    "duration": 276,
    "start_time": "2021-09-14T11:18:54.998Z"
   },
   {
    "duration": 16,
    "start_time": "2021-09-14T11:18:55.276Z"
   },
   {
    "duration": 34,
    "start_time": "2021-09-14T11:18:55.294Z"
   },
   {
    "duration": 10,
    "start_time": "2021-09-14T11:18:55.331Z"
   },
   {
    "duration": 563,
    "start_time": "2021-09-14T11:18:55.343Z"
   },
   {
    "duration": 303,
    "start_time": "2021-09-14T11:18:55.910Z"
   },
   {
    "duration": 13,
    "start_time": "2021-09-14T11:18:56.216Z"
   },
   {
    "duration": 120,
    "start_time": "2021-09-14T11:18:56.231Z"
   },
   {
    "duration": 12,
    "start_time": "2021-09-14T11:18:56.354Z"
   },
   {
    "duration": 403,
    "start_time": "2021-09-14T11:18:56.383Z"
   },
   {
    "duration": 275,
    "start_time": "2021-09-14T11:18:56.789Z"
   },
   {
    "duration": 21,
    "start_time": "2021-09-14T11:18:57.067Z"
   },
   {
    "duration": 32,
    "start_time": "2021-09-14T11:18:57.091Z"
   },
   {
    "duration": 131,
    "start_time": "2021-09-14T11:18:57.125Z"
   },
   {
    "duration": 160,
    "start_time": "2021-09-14T11:18:57.259Z"
   },
   {
    "duration": 102,
    "start_time": "2021-09-14T11:18:57.421Z"
   },
   {
    "duration": 107,
    "start_time": "2021-09-14T11:18:57.525Z"
   },
   {
    "duration": 211,
    "start_time": "2021-09-14T11:18:57.634Z"
   },
   {
    "duration": 258,
    "start_time": "2021-09-14T11:18:57.848Z"
   },
   {
    "duration": 41,
    "start_time": "2021-09-14T11:18:58.109Z"
   },
   {
    "duration": 33,
    "start_time": "2021-09-14T11:18:58.153Z"
   },
   {
    "duration": 262,
    "start_time": "2021-09-14T11:18:58.189Z"
   },
   {
    "duration": 441,
    "start_time": "2021-09-14T11:18:58.454Z"
   },
   {
    "duration": 13,
    "start_time": "2021-09-14T11:18:58.898Z"
   },
   {
    "duration": 569,
    "start_time": "2021-09-14T11:18:58.913Z"
   },
   {
    "duration": 623,
    "start_time": "2021-09-14T11:18:59.485Z"
   },
   {
    "duration": 14,
    "start_time": "2021-09-14T11:19:00.111Z"
   },
   {
    "duration": 64,
    "start_time": "2021-09-14T11:19:00.128Z"
   },
   {
    "duration": 19,
    "start_time": "2021-09-14T11:19:00.195Z"
   },
   {
    "duration": 869,
    "start_time": "2021-09-14T11:19:00.217Z"
   },
   {
    "duration": 613,
    "start_time": "2021-09-14T11:19:01.089Z"
   },
   {
    "duration": 14,
    "start_time": "2021-09-14T11:19:01.705Z"
   },
   {
    "duration": 26,
    "start_time": "2021-09-14T11:19:01.722Z"
   },
   {
    "duration": 413,
    "start_time": "2021-09-14T11:19:01.750Z"
   },
   {
    "duration": 640,
    "start_time": "2021-09-14T11:19:02.166Z"
   },
   {
    "duration": 10,
    "start_time": "2021-09-14T11:19:02.809Z"
   },
   {
    "duration": 20,
    "start_time": "2021-09-14T11:19:02.822Z"
   },
   {
    "duration": 369,
    "start_time": "2021-09-14T11:19:02.844Z"
   },
   {
    "duration": 612,
    "start_time": "2021-09-14T11:19:03.215Z"
   },
   {
    "duration": 11,
    "start_time": "2021-09-14T11:19:03.830Z"
   },
   {
    "duration": 18,
    "start_time": "2021-09-14T11:19:03.843Z"
   },
   {
    "duration": 30,
    "start_time": "2021-09-14T11:19:03.864Z"
   },
   {
    "duration": 8,
    "start_time": "2021-09-14T11:19:03.896Z"
   },
   {
    "duration": 9,
    "start_time": "2021-09-14T11:19:03.912Z"
   },
   {
    "duration": 10,
    "start_time": "2021-09-14T11:19:03.923Z"
   },
   {
    "duration": 52,
    "start_time": "2021-09-14T11:19:03.935Z"
   },
   {
    "duration": 14,
    "start_time": "2021-09-14T11:19:03.990Z"
   },
   {
    "duration": 18,
    "start_time": "2021-09-14T11:19:04.006Z"
   },
   {
    "duration": 13,
    "start_time": "2021-09-14T11:19:04.027Z"
   },
   {
    "duration": 42,
    "start_time": "2021-09-14T11:19:04.043Z"
   },
   {
    "duration": 8,
    "start_time": "2021-09-14T11:19:04.088Z"
   }
  ],
  "kernelspec": {
   "display_name": "Python 3",
   "language": "python",
   "name": "python3"
  },
  "language_info": {
   "codemirror_mode": {
    "name": "ipython",
    "version": 3
   },
   "file_extension": ".py",
   "mimetype": "text/x-python",
   "name": "python",
   "nbconvert_exporter": "python",
   "pygments_lexer": "ipython3",
   "version": "3.8.8"
  },
  "toc": {
   "base_numbering": 1,
   "nav_menu": {},
   "number_sections": true,
   "sideBar": true,
   "skip_h1_title": true,
   "title_cell": "Table of Contents",
   "title_sidebar": "Contents",
   "toc_cell": false,
   "toc_position": {},
   "toc_section_display": true,
   "toc_window_display": false
  }
 },
 "nbformat": 4,
 "nbformat_minor": 5
}
